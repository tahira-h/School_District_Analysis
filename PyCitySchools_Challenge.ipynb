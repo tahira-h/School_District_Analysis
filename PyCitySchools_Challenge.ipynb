{
 "cells": [
  {
   "cell_type": "code",
   "execution_count": 1,
   "id": "organized-innocent",
   "metadata": {},
   "outputs": [
    {
     "name": "stderr",
     "output_type": "stream",
     "text": [
      "<ipython-input-1-e456d7f40152>:18: FutureWarning: The default value of regex will change from True to False in a future version.\n",
      "  student_data_df[\"student_name\"] = student_data_df[\"student_name\"].str.replace(word,\"\")\n"
     ]
    },
    {
     "data": {
      "text/html": [
       "<div>\n",
       "<style scoped>\n",
       "    .dataframe tbody tr th:only-of-type {\n",
       "        vertical-align: middle;\n",
       "    }\n",
       "\n",
       "    .dataframe tbody tr th {\n",
       "        vertical-align: top;\n",
       "    }\n",
       "\n",
       "    .dataframe thead th {\n",
       "        text-align: right;\n",
       "    }\n",
       "</style>\n",
       "<table border=\"1\" class=\"dataframe\">\n",
       "  <thead>\n",
       "    <tr style=\"text-align: right;\">\n",
       "      <th></th>\n",
       "      <th>Student ID</th>\n",
       "      <th>student_name</th>\n",
       "      <th>gender</th>\n",
       "      <th>grade</th>\n",
       "      <th>school_name</th>\n",
       "      <th>reading_score</th>\n",
       "      <th>math_score</th>\n",
       "    </tr>\n",
       "  </thead>\n",
       "  <tbody>\n",
       "    <tr>\n",
       "      <th>0</th>\n",
       "      <td>0</td>\n",
       "      <td>Paul Bradley</td>\n",
       "      <td>M</td>\n",
       "      <td>9th</td>\n",
       "      <td>Huang High School</td>\n",
       "      <td>66</td>\n",
       "      <td>79</td>\n",
       "    </tr>\n",
       "    <tr>\n",
       "      <th>1</th>\n",
       "      <td>1</td>\n",
       "      <td>Victor Smith</td>\n",
       "      <td>M</td>\n",
       "      <td>12th</td>\n",
       "      <td>Huang High School</td>\n",
       "      <td>94</td>\n",
       "      <td>61</td>\n",
       "    </tr>\n",
       "    <tr>\n",
       "      <th>2</th>\n",
       "      <td>2</td>\n",
       "      <td>Kevin Rodriguez</td>\n",
       "      <td>M</td>\n",
       "      <td>12th</td>\n",
       "      <td>Huang High School</td>\n",
       "      <td>90</td>\n",
       "      <td>60</td>\n",
       "    </tr>\n",
       "    <tr>\n",
       "      <th>3</th>\n",
       "      <td>3</td>\n",
       "      <td>Richard Scott</td>\n",
       "      <td>M</td>\n",
       "      <td>12th</td>\n",
       "      <td>Huang High School</td>\n",
       "      <td>67</td>\n",
       "      <td>58</td>\n",
       "    </tr>\n",
       "    <tr>\n",
       "      <th>4</th>\n",
       "      <td>4</td>\n",
       "      <td>Bonnie Ray</td>\n",
       "      <td>F</td>\n",
       "      <td>9th</td>\n",
       "      <td>Huang High School</td>\n",
       "      <td>97</td>\n",
       "      <td>84</td>\n",
       "    </tr>\n",
       "    <tr>\n",
       "      <th>5</th>\n",
       "      <td>5</td>\n",
       "      <td>Bryan Miranda</td>\n",
       "      <td>M</td>\n",
       "      <td>9th</td>\n",
       "      <td>Huang High School</td>\n",
       "      <td>94</td>\n",
       "      <td>94</td>\n",
       "    </tr>\n",
       "    <tr>\n",
       "      <th>6</th>\n",
       "      <td>6</td>\n",
       "      <td>Sheena Carter</td>\n",
       "      <td>F</td>\n",
       "      <td>11th</td>\n",
       "      <td>Huang High School</td>\n",
       "      <td>82</td>\n",
       "      <td>80</td>\n",
       "    </tr>\n",
       "    <tr>\n",
       "      <th>7</th>\n",
       "      <td>7</td>\n",
       "      <td>Nicole Baker</td>\n",
       "      <td>F</td>\n",
       "      <td>12th</td>\n",
       "      <td>Huang High School</td>\n",
       "      <td>96</td>\n",
       "      <td>69</td>\n",
       "    </tr>\n",
       "    <tr>\n",
       "      <th>8</th>\n",
       "      <td>8</td>\n",
       "      <td>Michael Roth</td>\n",
       "      <td>M</td>\n",
       "      <td>10th</td>\n",
       "      <td>Huang High School</td>\n",
       "      <td>95</td>\n",
       "      <td>87</td>\n",
       "    </tr>\n",
       "    <tr>\n",
       "      <th>9</th>\n",
       "      <td>9</td>\n",
       "      <td>Matthew Greene</td>\n",
       "      <td>M</td>\n",
       "      <td>10th</td>\n",
       "      <td>Huang High School</td>\n",
       "      <td>96</td>\n",
       "      <td>84</td>\n",
       "    </tr>\n",
       "  </tbody>\n",
       "</table>\n",
       "</div>"
      ],
      "text/plain": [
       "   Student ID     student_name gender grade        school_name  reading_score  \\\n",
       "0           0     Paul Bradley      M   9th  Huang High School             66   \n",
       "1           1     Victor Smith      M  12th  Huang High School             94   \n",
       "2           2  Kevin Rodriguez      M  12th  Huang High School             90   \n",
       "3           3    Richard Scott      M  12th  Huang High School             67   \n",
       "4           4       Bonnie Ray      F   9th  Huang High School             97   \n",
       "5           5    Bryan Miranda      M   9th  Huang High School             94   \n",
       "6           6    Sheena Carter      F  11th  Huang High School             82   \n",
       "7           7     Nicole Baker      F  12th  Huang High School             96   \n",
       "8           8     Michael Roth      M  10th  Huang High School             95   \n",
       "9           9   Matthew Greene      M  10th  Huang High School             96   \n",
       "\n",
       "   math_score  \n",
       "0          79  \n",
       "1          61  \n",
       "2          60  \n",
       "3          58  \n",
       "4          84  \n",
       "5          94  \n",
       "6          80  \n",
       "7          69  \n",
       "8          87  \n",
       "9          84  "
      ]
     },
     "execution_count": 1,
     "metadata": {},
     "output_type": "execute_result"
    }
   ],
   "source": [
    "# Dependencies and Setup\n",
    "import pandas as pd\n",
    "\n",
    "# File to Load (Remember to change the path if needed.)\n",
    "school_data_to_load = \"Resources/schools_complete.csv\"\n",
    "student_data_to_load = \"Resources/students_complete.csv\"\n",
    "\n",
    "# Read the School Data and Student Data and store into a Pandas DataFrame\n",
    "school_data_df = pd.read_csv(school_data_to_load)\n",
    "student_data_df = pd.read_csv(student_data_to_load)\n",
    "\n",
    "# Cleaning Student Names and Replacing Substrings in a Python String\n",
    "# Add each prefix and suffix to remove to a list.\n",
    "prefixes_suffixes = [\"Dr. \", \"Mr. \",\"Ms. \", \"Mrs. \", \"Miss \", \" MD\", \" DDS\", \" DVM\", \" PhD\"]\n",
    "\n",
    "# Iterate through the words in the \"prefixes_suffixes\" list and replace them with an empty space, \"\".\n",
    "for word in prefixes_suffixes:\n",
    "    student_data_df[\"student_name\"] = student_data_df[\"student_name\"].str.replace(word,\"\")\n",
    "\n",
    "# Check names.\n",
    "student_data_df.head(10)"
   ]
  },
  {
   "cell_type": "markdown",
   "id": "casual-opposition",
   "metadata": {},
   "source": [
    "# Deliverable 1:"
   ]
  },
  {
   "cell_type": "code",
   "execution_count": 2,
   "id": "angry-evidence",
   "metadata": {},
   "outputs": [],
   "source": [
    "#Deliverable 1: Replace the reading and math scores.\n",
    "#Replace the 9th grade reading and math scores at Thomas High School with NaN. \"below\""
   ]
  },
  {
   "cell_type": "code",
   "execution_count": 3,
   "id": "addressed-sociology",
   "metadata": {},
   "outputs": [],
   "source": [
    "# Install numpy using conda install numpy or pip install numpy. \n",
    "# Step 1. Import numpy as np.\n",
    "import numpy as np"
   ]
  },
  {
   "cell_type": "code",
   "execution_count": 4,
   "id": "rough-thursday",
   "metadata": {},
   "outputs": [],
   "source": [
    "# Step 2. Use the loc method on the student_data_df to select all the reading scores from the 9th grade at Thomas High School and replace them with NaN.\n",
    "# student_data_df.loc[\"reading_score\"] = student_data_df.loc[\"reading_score\"].str.replace(\"NaN\") >> np numpy = --np.nan\n",
    "# create a boolean and list[] to prevent this TypeError: \"unsupported operand type(s) for &: 'bool' and 'list'\"\"\n",
    "# boolean = T/F_condition\n",
    "\n",
    "# boolean_condition = student_data_df already defined [\"school_name\"] == \"school of the name in data\") & (student_data_df[\"grade\"] == \"grade of choice from data\")\n",
    "#bool_condition = (student_data_df[\"school_name\"] == \"Thomas High School\") & (student_data_df[\"grade\"] == \"9th\")\n",
    "\n",
    "# Use the loc method\n",
    "#student_data_df.loc[bool_condition,[\"school_name\", \"grade\", \"reading_score\"]]\n",
    "\n",
    "# Replace 9th grade \"reading_score\" with NaN\n",
    "#student_data_df.loc[bool_condition, [\"reading_score\"]] = np.nan"
   ]
  },
  {
   "cell_type": "code",
   "execution_count": 5,
   "id": "partial-poison",
   "metadata": {},
   "outputs": [],
   "source": [
    "student_data_df.loc[(student_data_df[\"school_name\"] == \"Thomas High School\") & (student_data_df[\"grade\"] == \"9th\"), \"reading_score\"] = np.nan"
   ]
  },
  {
   "cell_type": "code",
   "execution_count": 6,
   "id": "limited-insider",
   "metadata": {},
   "outputs": [],
   "source": [
    "# Step 2. Use the loc method on the student_data_df to select all the reading scores from the 9th grade at Thomas High School and replace them with NaN.\n",
    "# student_data_df.loc \n",
    "\n",
    "#Create NaN values for the reading and math scores separately, by using np.nan\n",
    "\n",
    "#Create NaN values for the reading and math scores separately, by using np.nan\n",
    "\n",
    "# clean_df= school_data_df.loc[(school_data_df.school_name == \"Thomas High School\") & (school_data_df.grade == \"9th\"), 'reading_score'] = 'NaN'\n",
    "# clean_df= school_data_df.loc[(school_data_df.school_name == \"Thomas High School\") & (school_data_df.grade == \"9th\"), 'math_score'] = 'NaN'\n",
    "# clean_df= school_data_df.head()\n",
    "# clean_df.head()"
   ]
  },
  {
   "cell_type": "code",
   "execution_count": 7,
   "id": "verified-galaxy",
   "metadata": {},
   "outputs": [],
   "source": [
    "student_data_df.loc[(student_data_df[\"school_name\"] == \"Thomas High School\") & (student_data_df[\"grade\"] == \"9th\"), \"math_score\"] = np.nan"
   ]
  },
  {
   "cell_type": "code",
   "execution_count": 8,
   "id": "illegal-detection",
   "metadata": {},
   "outputs": [],
   "source": [
    "#  Step 3. Refactor the code in Step 2 to replace the math scores with NaN.\n",
    "\n",
    "# Repeat boolean_condition\n",
    "#bool_condition = (student_data_df[\"school_name\"] == \"Thomas High School\") & (student_data_df[\"grade\"] == \"9th\")\n",
    "\n",
    "# Use the loc method\n",
    "#student_data_df.loc[bool_condition,[\"school_name\", \"grade\", \"math_score\"]]\n",
    "\n",
    "# Replace 9th grade \"math_score\" with NaN\n",
    "#student_data_df.loc[bool_condition, [\"math_score\"]] = np.nan"
   ]
  },
  {
   "cell_type": "code",
   "execution_count": 9,
   "id": "middle-tissue",
   "metadata": {},
   "outputs": [
    {
     "data": {
      "text/html": [
       "<div>\n",
       "<style scoped>\n",
       "    .dataframe tbody tr th:only-of-type {\n",
       "        vertical-align: middle;\n",
       "    }\n",
       "\n",
       "    .dataframe tbody tr th {\n",
       "        vertical-align: top;\n",
       "    }\n",
       "\n",
       "    .dataframe thead th {\n",
       "        text-align: right;\n",
       "    }\n",
       "</style>\n",
       "<table border=\"1\" class=\"dataframe\">\n",
       "  <thead>\n",
       "    <tr style=\"text-align: right;\">\n",
       "      <th></th>\n",
       "      <th>Student ID</th>\n",
       "      <th>student_name</th>\n",
       "      <th>gender</th>\n",
       "      <th>grade</th>\n",
       "      <th>school_name</th>\n",
       "      <th>reading_score</th>\n",
       "      <th>math_score</th>\n",
       "    </tr>\n",
       "  </thead>\n",
       "  <tbody>\n",
       "    <tr>\n",
       "      <th>0</th>\n",
       "      <td>0</td>\n",
       "      <td>Paul Bradley</td>\n",
       "      <td>M</td>\n",
       "      <td>9th</td>\n",
       "      <td>Huang High School</td>\n",
       "      <td>66.0</td>\n",
       "      <td>79.0</td>\n",
       "    </tr>\n",
       "    <tr>\n",
       "      <th>1</th>\n",
       "      <td>1</td>\n",
       "      <td>Victor Smith</td>\n",
       "      <td>M</td>\n",
       "      <td>12th</td>\n",
       "      <td>Huang High School</td>\n",
       "      <td>94.0</td>\n",
       "      <td>61.0</td>\n",
       "    </tr>\n",
       "    <tr>\n",
       "      <th>2</th>\n",
       "      <td>2</td>\n",
       "      <td>Kevin Rodriguez</td>\n",
       "      <td>M</td>\n",
       "      <td>12th</td>\n",
       "      <td>Huang High School</td>\n",
       "      <td>90.0</td>\n",
       "      <td>60.0</td>\n",
       "    </tr>\n",
       "    <tr>\n",
       "      <th>3</th>\n",
       "      <td>3</td>\n",
       "      <td>Richard Scott</td>\n",
       "      <td>M</td>\n",
       "      <td>12th</td>\n",
       "      <td>Huang High School</td>\n",
       "      <td>67.0</td>\n",
       "      <td>58.0</td>\n",
       "    </tr>\n",
       "    <tr>\n",
       "      <th>4</th>\n",
       "      <td>4</td>\n",
       "      <td>Bonnie Ray</td>\n",
       "      <td>F</td>\n",
       "      <td>9th</td>\n",
       "      <td>Huang High School</td>\n",
       "      <td>97.0</td>\n",
       "      <td>84.0</td>\n",
       "    </tr>\n",
       "    <tr>\n",
       "      <th>5</th>\n",
       "      <td>5</td>\n",
       "      <td>Bryan Miranda</td>\n",
       "      <td>M</td>\n",
       "      <td>9th</td>\n",
       "      <td>Huang High School</td>\n",
       "      <td>94.0</td>\n",
       "      <td>94.0</td>\n",
       "    </tr>\n",
       "    <tr>\n",
       "      <th>6</th>\n",
       "      <td>6</td>\n",
       "      <td>Sheena Carter</td>\n",
       "      <td>F</td>\n",
       "      <td>11th</td>\n",
       "      <td>Huang High School</td>\n",
       "      <td>82.0</td>\n",
       "      <td>80.0</td>\n",
       "    </tr>\n",
       "    <tr>\n",
       "      <th>7</th>\n",
       "      <td>7</td>\n",
       "      <td>Nicole Baker</td>\n",
       "      <td>F</td>\n",
       "      <td>12th</td>\n",
       "      <td>Huang High School</td>\n",
       "      <td>96.0</td>\n",
       "      <td>69.0</td>\n",
       "    </tr>\n",
       "    <tr>\n",
       "      <th>8</th>\n",
       "      <td>8</td>\n",
       "      <td>Michael Roth</td>\n",
       "      <td>M</td>\n",
       "      <td>10th</td>\n",
       "      <td>Huang High School</td>\n",
       "      <td>95.0</td>\n",
       "      <td>87.0</td>\n",
       "    </tr>\n",
       "    <tr>\n",
       "      <th>9</th>\n",
       "      <td>9</td>\n",
       "      <td>Matthew Greene</td>\n",
       "      <td>M</td>\n",
       "      <td>10th</td>\n",
       "      <td>Huang High School</td>\n",
       "      <td>96.0</td>\n",
       "      <td>84.0</td>\n",
       "    </tr>\n",
       "  </tbody>\n",
       "</table>\n",
       "</div>"
      ],
      "text/plain": [
       "   Student ID     student_name gender grade        school_name  reading_score  \\\n",
       "0           0     Paul Bradley      M   9th  Huang High School           66.0   \n",
       "1           1     Victor Smith      M  12th  Huang High School           94.0   \n",
       "2           2  Kevin Rodriguez      M  12th  Huang High School           90.0   \n",
       "3           3    Richard Scott      M  12th  Huang High School           67.0   \n",
       "4           4       Bonnie Ray      F   9th  Huang High School           97.0   \n",
       "5           5    Bryan Miranda      M   9th  Huang High School           94.0   \n",
       "6           6    Sheena Carter      F  11th  Huang High School           82.0   \n",
       "7           7     Nicole Baker      F  12th  Huang High School           96.0   \n",
       "8           8     Michael Roth      M  10th  Huang High School           95.0   \n",
       "9           9   Matthew Greene      M  10th  Huang High School           96.0   \n",
       "\n",
       "   math_score  \n",
       "0        79.0  \n",
       "1        61.0  \n",
       "2        60.0  \n",
       "3        58.0  \n",
       "4        84.0  \n",
       "5        94.0  \n",
       "6        80.0  \n",
       "7        69.0  \n",
       "8        87.0  \n",
       "9        84.0  "
      ]
     },
     "execution_count": 9,
     "metadata": {},
     "output_type": "execute_result"
    }
   ],
   "source": [
    "#  Step 4. Check the student data for NaN's. \n",
    "student_data_df.head(10)"
   ]
  },
  {
   "cell_type": "code",
   "execution_count": null,
   "id": "silent-yemen",
   "metadata": {},
   "outputs": [],
   "source": [
    "#student_data_df.loc[(student_data_df[\"school_name\"] == \"Thomas High School\") & (student_data_df[\"grade\"] == \"9th\"), \"reading_score\"] = np.nan\n",
    "#student_data_df.loc[(student_data_df[\"school_name\"] == \"Thomas High School\") & (student_data_df[\"grade\"] == \"9th\"), \"math_score\"] = np.nan\n",
    "\n",
    "#student_data_df.head(10)"
   ]
  },
  {
   "cell_type": "markdown",
   "id": "undefined-membrane",
   "metadata": {},
   "source": [
    "# Deliverable 2:"
   ]
  },
  {
   "cell_type": "code",
   "execution_count": 10,
   "id": "contemporary-miniature",
   "metadata": {},
   "outputs": [],
   "source": [
    "# Deliverable 2 : Repeat the school district analysis\n",
    "# District Summary \"below\""
   ]
  },
  {
   "cell_type": "code",
   "execution_count": 11,
   "id": "auburn-theater",
   "metadata": {},
   "outputs": [
    {
     "data": {
      "text/html": [
       "<div>\n",
       "<style scoped>\n",
       "    .dataframe tbody tr th:only-of-type {\n",
       "        vertical-align: middle;\n",
       "    }\n",
       "\n",
       "    .dataframe tbody tr th {\n",
       "        vertical-align: top;\n",
       "    }\n",
       "\n",
       "    .dataframe thead th {\n",
       "        text-align: right;\n",
       "    }\n",
       "</style>\n",
       "<table border=\"1\" class=\"dataframe\">\n",
       "  <thead>\n",
       "    <tr style=\"text-align: right;\">\n",
       "      <th></th>\n",
       "      <th>Student ID</th>\n",
       "      <th>student_name</th>\n",
       "      <th>gender</th>\n",
       "      <th>grade</th>\n",
       "      <th>school_name</th>\n",
       "      <th>reading_score</th>\n",
       "      <th>math_score</th>\n",
       "      <th>School ID</th>\n",
       "      <th>type</th>\n",
       "      <th>size</th>\n",
       "      <th>budget</th>\n",
       "    </tr>\n",
       "  </thead>\n",
       "  <tbody>\n",
       "    <tr>\n",
       "      <th>0</th>\n",
       "      <td>0</td>\n",
       "      <td>Paul Bradley</td>\n",
       "      <td>M</td>\n",
       "      <td>9th</td>\n",
       "      <td>Huang High School</td>\n",
       "      <td>66.0</td>\n",
       "      <td>79.0</td>\n",
       "      <td>0</td>\n",
       "      <td>District</td>\n",
       "      <td>2917</td>\n",
       "      <td>1910635</td>\n",
       "    </tr>\n",
       "    <tr>\n",
       "      <th>1</th>\n",
       "      <td>1</td>\n",
       "      <td>Victor Smith</td>\n",
       "      <td>M</td>\n",
       "      <td>12th</td>\n",
       "      <td>Huang High School</td>\n",
       "      <td>94.0</td>\n",
       "      <td>61.0</td>\n",
       "      <td>0</td>\n",
       "      <td>District</td>\n",
       "      <td>2917</td>\n",
       "      <td>1910635</td>\n",
       "    </tr>\n",
       "    <tr>\n",
       "      <th>2</th>\n",
       "      <td>2</td>\n",
       "      <td>Kevin Rodriguez</td>\n",
       "      <td>M</td>\n",
       "      <td>12th</td>\n",
       "      <td>Huang High School</td>\n",
       "      <td>90.0</td>\n",
       "      <td>60.0</td>\n",
       "      <td>0</td>\n",
       "      <td>District</td>\n",
       "      <td>2917</td>\n",
       "      <td>1910635</td>\n",
       "    </tr>\n",
       "    <tr>\n",
       "      <th>3</th>\n",
       "      <td>3</td>\n",
       "      <td>Richard Scott</td>\n",
       "      <td>M</td>\n",
       "      <td>12th</td>\n",
       "      <td>Huang High School</td>\n",
       "      <td>67.0</td>\n",
       "      <td>58.0</td>\n",
       "      <td>0</td>\n",
       "      <td>District</td>\n",
       "      <td>2917</td>\n",
       "      <td>1910635</td>\n",
       "    </tr>\n",
       "    <tr>\n",
       "      <th>4</th>\n",
       "      <td>4</td>\n",
       "      <td>Bonnie Ray</td>\n",
       "      <td>F</td>\n",
       "      <td>9th</td>\n",
       "      <td>Huang High School</td>\n",
       "      <td>97.0</td>\n",
       "      <td>84.0</td>\n",
       "      <td>0</td>\n",
       "      <td>District</td>\n",
       "      <td>2917</td>\n",
       "      <td>1910635</td>\n",
       "    </tr>\n",
       "  </tbody>\n",
       "</table>\n",
       "</div>"
      ],
      "text/plain": [
       "   Student ID     student_name gender grade        school_name  reading_score  \\\n",
       "0           0     Paul Bradley      M   9th  Huang High School           66.0   \n",
       "1           1     Victor Smith      M  12th  Huang High School           94.0   \n",
       "2           2  Kevin Rodriguez      M  12th  Huang High School           90.0   \n",
       "3           3    Richard Scott      M  12th  Huang High School           67.0   \n",
       "4           4       Bonnie Ray      F   9th  Huang High School           97.0   \n",
       "\n",
       "   math_score  School ID      type  size   budget  \n",
       "0        79.0          0  District  2917  1910635  \n",
       "1        61.0          0  District  2917  1910635  \n",
       "2        60.0          0  District  2917  1910635  \n",
       "3        58.0          0  District  2917  1910635  \n",
       "4        84.0          0  District  2917  1910635  "
      ]
     },
     "execution_count": 11,
     "metadata": {},
     "output_type": "execute_result"
    }
   ],
   "source": [
    "# Combine the data into a single dataset\n",
    "school_data_complete_df = pd.merge(student_data_df, school_data_df, how=\"left\", on=[\"school_name\", \"school_name\"])\n",
    "school_data_complete_df.head()"
   ]
  },
  {
   "cell_type": "code",
   "execution_count": 12,
   "id": "planned-julian",
   "metadata": {},
   "outputs": [],
   "source": [
    "# Calculate the Totals (Schools and Students)\n",
    "school_count = len(school_data_complete_df[\"school_name\"].unique())\n",
    "student_count = school_data_complete_df[\"Student ID\"].count()\n",
    "\n",
    "# Calculate the Total Budget\n",
    "total_budget = school_data_df[\"budget\"].sum()"
   ]
  },
  {
   "cell_type": "code",
   "execution_count": 13,
   "id": "naughty-driving",
   "metadata": {},
   "outputs": [],
   "source": [
    "# Calculate the Average Scores using the \"clean_student_data\".\n",
    "average_reading_score = school_data_complete_df[\"reading_score\"].mean()\n",
    "average_math_score = school_data_complete_df[\"math_score\"].mean()"
   ]
  },
  {
   "cell_type": "code",
   "execution_count": 14,
   "id": "grave-carry",
   "metadata": {},
   "outputs": [],
   "source": [
    "# Step 1. Get the number of students that are in ninth grade at Thomas High School.\n",
    "# These students have no grades. \n",
    "ninth_grader = student_data_df.loc[(student_data_df[\"grade\"]) == \"9th\"]\n",
    "\n",
    "#student_count_9th = student_data_df.loc[(student_data_df[\"school_name\"] == \"Thomas High School\") & (student_data_df[\"grade\"] == \"9th\")]\n",
    "#student_count_9th[\"Student_ID\"].count(\n",
    "#)\n",
    "# Get the total student count \n",
    "student_counts = school_data_complete_df[\"Student ID\"].count()\n",
    "\n",
    "\n",
    "# Step 2. Subtract the number of students that are in ninth grade at \n",
    "# Thomas High School from the total student count to get the new total student count.\n",
    "\n",
    "#student_count_new = school_count - ninth_grader\n",
    "#student_count_new"
   ]
  },
  {
   "cell_type": "code",
   "execution_count": 15,
   "id": "concerned-greene",
   "metadata": {},
   "outputs": [],
   "source": [
    "#print(student_count_new)"
   ]
  },
  {
   "cell_type": "code",
   "execution_count": 16,
   "id": "aware-latest",
   "metadata": {},
   "outputs": [],
   "source": [
    "# Calculate the passing rates using the \"clean_student_data\".\n",
    "passing_math_count = school_data_complete_df[(school_data_complete_df[\"math_score\"] >= 70)].count()[\"student_name\"]\n",
    "passing_reading_count = school_data_complete_df[(school_data_complete_df[\"reading_score\"] >= 70)].count()[\"student_name\"]"
   ]
  },
  {
   "cell_type": "code",
   "execution_count": 17,
   "id": "prostate-olympus",
   "metadata": {},
   "outputs": [],
   "source": [
    "# Step 3. Calculate the passing percentages with the new total student count.\n"
   ]
  },
  {
   "cell_type": "code",
   "execution_count": 18,
   "id": "widespread-relative",
   "metadata": {},
   "outputs": [],
   "source": [
    "# Calculate the students who passed both reading and math.\n",
    "passing_math_reading = school_data_complete_df[(school_data_complete_df[\"math_score\"] >= 70)\n",
    "                                               & (school_data_complete_df[\"reading_score\"] >= 70)]\n",
    "\n",
    "# Calculate the number of students that passed both reading and math.\n",
    "overall_passing_math_reading_count = passing_math_reading[\"student_name\"].count()\n",
    "\n",
    "\n",
    "# Step 4.Calculate the overall passing percentage with new total student count.\n"
   ]
  },
  {
   "cell_type": "code",
   "execution_count": 19,
   "id": "removed-aviation",
   "metadata": {},
   "outputs": [
    {
     "ename": "NameError",
     "evalue": "name 'passing_math_percentage' is not defined",
     "output_type": "error",
     "traceback": [
      "\u001b[1;31m---------------------------------------------------------------------------\u001b[0m",
      "\u001b[1;31mNameError\u001b[0m                                 Traceback (most recent call last)",
      "\u001b[1;32m<ipython-input-19-e33458f2e113>\u001b[0m in \u001b[0;36m<module>\u001b[1;34m\u001b[0m\n\u001b[0;32m      6\u001b[0m           \u001b[1;34m\"Average Math Score\"\u001b[0m\u001b[1;33m:\u001b[0m \u001b[0maverage_math_score\u001b[0m\u001b[1;33m,\u001b[0m\u001b[1;33m\u001b[0m\u001b[1;33m\u001b[0m\u001b[0m\n\u001b[0;32m      7\u001b[0m           \u001b[1;34m\"Average Reading Score\"\u001b[0m\u001b[1;33m:\u001b[0m \u001b[0maverage_reading_score\u001b[0m\u001b[1;33m,\u001b[0m\u001b[1;33m\u001b[0m\u001b[1;33m\u001b[0m\u001b[0m\n\u001b[1;32m----> 8\u001b[1;33m           \u001b[1;34m\"% Passing Math\"\u001b[0m\u001b[1;33m:\u001b[0m \u001b[0mpassing_math_percentage\u001b[0m\u001b[1;33m,\u001b[0m\u001b[1;33m\u001b[0m\u001b[1;33m\u001b[0m\u001b[0m\n\u001b[0m\u001b[0;32m      9\u001b[0m          \u001b[1;34m\"% Passing Reading\"\u001b[0m\u001b[1;33m:\u001b[0m \u001b[0mpassing_reading_percentage\u001b[0m\u001b[1;33m,\u001b[0m\u001b[1;33m\u001b[0m\u001b[1;33m\u001b[0m\u001b[0m\n\u001b[0;32m     10\u001b[0m         \"% Overall Passing\": overall_passing_percentage}])\n",
      "\u001b[1;31mNameError\u001b[0m: name 'passing_math_percentage' is not defined"
     ]
    }
   ],
   "source": [
    "# Create a DataFrame\n",
    "district_summary_df = pd.DataFrame(\n",
    "          [{\"Total Schools\": school_count, \n",
    "          \"Total Students\": student_count, \n",
    "          \"Total Budget\": total_budget,\n",
    "          \"Average Math Score\": average_math_score, \n",
    "          \"Average Reading Score\": average_reading_score,\n",
    "          \"% Passing Math\": passing_math_percentage,\n",
    "         \"% Passing Reading\": passing_reading_percentage,\n",
    "        \"% Overall Passing\": overall_passing_percentage}])\n",
    "\n",
    "\n",
    "\n",
    "# Format the \"Total Students\" to have the comma for a thousands separator.\n",
    "district_summary_df[\"Total Students\"] = district_summary_df[\"Total Students\"].map(\"{:,}\".format)\n",
    "# Format the \"Total Budget\" to have the comma for a thousands separator, a decimal separator and a \"$\".\n",
    "district_summary_df[\"Total Budget\"] = district_summary_df[\"Total Budget\"].map(\"${:,.2f}\".format)\n",
    "# Format the columns.\n",
    "district_summary_df[\"Average Math Score\"] = district_summary_df[\"Average Math Score\"].map(\"{:.1f}\".format)\n",
    "district_summary_df[\"Average Reading Score\"] = district_summary_df[\"Average Reading Score\"].map(\"{:.1f}\".format)\n",
    "district_summary_df[\"% Passing Math\"] = district_summary_df[\"% Passing Math\"].map(\"{:.1f}\".format)\n",
    "district_summary_df[\"% Passing Reading\"] = district_summary_df[\"% Passing Reading\"].map(\"{:.1f}\".format)\n",
    "district_summary_df[\"% Overall Passing\"] = district_summary_df[\"% Overall Passing\"].map(\"{:.1f}\".format)\n",
    "\n",
    "# Display the data frame\n",
    "district_summary_df"
   ]
  },
  {
   "cell_type": "code",
   "execution_count": null,
   "id": "interim-harmony",
   "metadata": {},
   "outputs": [],
   "source": [
    "# School Summary \"below\""
   ]
  },
  {
   "cell_type": "code",
   "execution_count": null,
   "id": "regional-lying",
   "metadata": {},
   "outputs": [],
   "source": [
    "# Determine the School Type\n",
    "per_school_types = school_data_df.set_index([\"school_name\"])[\"type\"]\n",
    "\n",
    "# Calculate the total student count.\n",
    "per_school_counts = school_data_complete_df[\"school_name\"].value_counts()\n",
    "\n",
    "# Calculate the total school budget and per capita spending\n",
    "per_school_budget = school_data_complete_df.groupby([\"school_name\"]).mean()[\"budget\"]\n",
    "# Calculate the per capita spending.\n",
    "per_school_capita = per_school_budget / per_school_counts\n",
    "\n",
    "# Calculate the average test scores.\n",
    "per_school_math = school_data_complete_df.groupby([\"school_name\"]).mean()[\"math_score\"]\n",
    "per_school_reading = school_data_complete_df.groupby([\"school_name\"]).mean()[\"reading_score\"]\n",
    "\n",
    "# Calculate the passing scores by creating a filtered DataFrame.\n",
    "per_school_passing_math = school_data_complete_df[(school_data_complete_df[\"math_score\"] >= 70)]\n",
    "per_school_passing_reading = school_data_complete_df[(school_data_complete_df[\"reading_score\"] >= 70)]\n",
    "\n",
    "# Calculate the number of students passing math and passing reading by school.\n",
    "per_school_passing_math = per_school_passing_math.groupby([\"school_name\"]).count()[\"student_name\"]\n",
    "per_school_passing_reading = per_school_passing_reading.groupby([\"school_name\"]).count()[\"student_name\"]\n",
    "\n",
    "# Calculate the percentage of passing math and reading scores per school.\n",
    "per_school_passing_math = per_school_passing_math / per_school_counts * 100\n",
    "per_school_passing_reading = per_school_passing_reading / per_school_counts * 100\n",
    "\n",
    "# Calculate the students who passed both reading and math.\n",
    "per_passing_math_reading = school_data_complete_df[(school_data_complete_df[\"reading_score\"] >= 70)\n",
    "                                               & (school_data_complete_df[\"math_score\"] >= 70)]\n",
    "\n",
    "# Calculate the number of students passing math and passing reading by school.\n",
    "per_passing_math_reading = per_passing_math_reading.groupby([\"school_name\"]).count()[\"student_name\"]\n",
    "\n",
    "# Calculate the percentage of passing math and reading scores per school.\n",
    "per_overall_passing_percentage = per_passing_math_reading / per_school_counts * 100"
   ]
  },
  {
   "cell_type": "code",
   "execution_count": null,
   "id": "formed-slovak",
   "metadata": {},
   "outputs": [],
   "source": [
    "# Create the DataFrame\n",
    "per_school_summary_df = pd.DataFrame({\n",
    "    \"School Type\": per_school_types,\n",
    "    \"Total Students\": per_school_counts,\n",
    "    \"Total School Budget\": per_school_budget,\n",
    "    \"Per Student Budget\": per_school_capita,\n",
    "    \"Average Math Score\": per_school_math,\n",
    "    \"Average Reading Score\": per_school_reading,\n",
    "    \"% Passing Math\": per_school_passing_math,\n",
    "    \"% Passing Reading\": per_school_passing_reading,\n",
    "    \"% Overall Passing\": per_overall_passing_percentage})\n",
    "\n",
    "\n",
    "# per_school_summary_df.head()"
   ]
  },
  {
   "cell_type": "code",
   "execution_count": null,
   "id": "arranged-greene",
   "metadata": {},
   "outputs": [],
   "source": [
    "# Format the Total School Budget and the Per Student Budget\n",
    "per_school_summary_df[\"Total School Budget\"] = per_school_summary_df[\"Total School Budget\"].map(\"${:,.2f}\".format)\n",
    "per_school_summary_df[\"Per Student Budget\"] = per_school_summary_df[\"Per Student Budget\"].map(\"${:,.2f}\".format)\n",
    "\n",
    "# Display the data frame\n",
    "per_school_summary_df"
   ]
  },
  {
   "cell_type": "code",
   "execution_count": 53,
   "id": "secret-energy",
   "metadata": {},
   "outputs": [],
   "source": [
    "# Step 5.  Get the number of 10th-12th graders from Thomas High School (THS)."
   ]
  },
  {
   "cell_type": "code",
   "execution_count": null,
   "id": "significant-organ",
   "metadata": {},
   "outputs": [],
   "source": [
    "# Create a grade level DataFrames.\n",
    "ninth_graders = school_data_complete_df[(school_data_complete_df[\"grade\"]) == \"9th\"]\n",
    "\n",
    "tenth_graders = school_data_complete_df[(school_data_complete_df[\"grade\"]) == \"10th\"]\n",
    "\n",
    "eleventh_graders = school_data_complete_df[(school_data_complete_df[\"grade\"]) == \"11th\"]\n",
    "\n",
    "twelfth_graders = school_data_complete_df[(school_data_complete_df[\"grade\"]) == \"12th\"]"
   ]
  },
  {
   "cell_type": "code",
   "execution_count": 48,
   "id": "administrative-pioneer",
   "metadata": {},
   "outputs": [
    {
     "name": "stdout",
     "output_type": "stream",
     "text": [
      "Student ID       1635\n",
      "student_name     1635\n",
      "gender           1635\n",
      "grade            1635\n",
      "school_name      1635\n",
      "reading_score    1174\n",
      "math_score       1174\n",
      "School ID        1635\n",
      "type             1635\n",
      "size             1635\n",
      "budget           1635\n",
      "dtype: int64\n"
     ]
    }
   ],
   "source": [
    "print(tenth_graders)"
   ]
  },
  {
   "cell_type": "code",
   "execution_count": 49,
   "id": "automotive-vampire",
   "metadata": {},
   "outputs": [],
   "source": [
    "# Create a grade level DataFrames.\n",
    "ninth_graders = school_data_complete_df[(school_data_complete_df[\"grade\"]) == \"9th\"]\n",
    "\n",
    "tenth_graders = school_data_complete_df[(school_data_complete_df[\"grade\"]) == \"10th\"]\n",
    "\n",
    "eleventh_graders = school_data_complete_df[(school_data_complete_df[\"grade\"]) == \"11th\"]\n",
    "\n",
    "twelfth_graders = school_data_complete_df[(school_data_complete_df[\"grade\"]) == \"12th\"]"
   ]
  },
  {
   "cell_type": "code",
   "execution_count": 50,
   "id": "hindu-setting",
   "metadata": {
    "scrolled": true
   },
   "outputs": [
    {
     "name": "stdout",
     "output_type": "stream",
     "text": [
      "       Student ID         student_name gender grade         school_name  \\\n",
      "6               6        Sheena Carter      F  11th   Huang High School   \n",
      "15             15        Jordan Carson      M  11th   Huang High School   \n",
      "22             22     Kimberly Stewart      F  11th   Huang High School   \n",
      "24             24     Chelsea Griffith      F  11th   Huang High School   \n",
      "28             28          Kelly James      F  11th   Huang High School   \n",
      "...           ...                  ...    ...   ...                 ...   \n",
      "39156       39156  Stephanie Contreras      F  11th  Thomas High School   \n",
      "39159       39159     Kimberly Cabrera      F  11th  Thomas High School   \n",
      "39160       39160         Katie Weaver      F  11th  Thomas High School   \n",
      "39163       39163           John Reese      M  11th  Thomas High School   \n",
      "39169       39169      Carolyn Jackson      F  11th  Thomas High School   \n",
      "\n",
      "       reading_score  math_score  School ID      type  size   budget  \n",
      "6               82.0        80.0          0  District  2917  1910635  \n",
      "15              94.0        88.0          0  District  2917  1910635  \n",
      "22              99.0        84.0          0  District  2917  1910635  \n",
      "24              85.0        73.0          0  District  2917  1910635  \n",
      "28              73.0        55.0          0  District  2917  1910635  \n",
      "...              ...         ...        ...       ...   ...      ...  \n",
      "39156           79.0        95.0         14   Charter  1635  1043130  \n",
      "39159           85.0        72.0         14   Charter  1635  1043130  \n",
      "39160           89.0        86.0         14   Charter  1635  1043130  \n",
      "39163           90.0        75.0         14   Charter  1635  1043130  \n",
      "39169           95.0        75.0         14   Charter  1635  1043130  \n",
      "\n",
      "[9695 rows x 11 columns]\n"
     ]
    }
   ],
   "source": [
    "print(eleventh_graders)"
   ]
  },
  {
   "cell_type": "code",
   "execution_count": null,
   "id": "living-agenda",
   "metadata": {},
   "outputs": [],
   "source": [
    "# Create a grade level DataFrames.\n",
    "ninth_graders = school_data_complete_df[(school_data_complete_df[\"grade\"]) == \"9th\"]\n",
    "\n",
    "tenth_graders = school_data_complete_df[(school_data_complete_df[\"grade\"]) == \"10th\"]\n",
    "\n",
    "eleventh_graders = school_data_complete_df[(school_data_complete_df[\"grade\"]) == \"11th\"]\n",
    "\n",
    "twelfth_graders = school_data_complete_df[(school_data_complete_df[\"grade\"]) == \"12th\"]"
   ]
  },
  {
   "cell_type": "code",
   "execution_count": 51,
   "id": "violent-notion",
   "metadata": {},
   "outputs": [
    {
     "name": "stdout",
     "output_type": "stream",
     "text": [
      "       Student ID      student_name gender grade         school_name  \\\n",
      "1               1      Victor Smith      M  12th   Huang High School   \n",
      "2               2   Kevin Rodriguez      M  12th   Huang High School   \n",
      "3               3     Richard Scott      M  12th   Huang High School   \n",
      "7               7      Nicole Baker      F  12th   Huang High School   \n",
      "29             29      Nicole Brown      F  12th   Huang High School   \n",
      "...           ...               ...    ...   ...                 ...   \n",
      "39137       39137   Victoria Bailey      F  12th  Thomas High School   \n",
      "39144       39144  Cristian Webster      M  12th  Thomas High School   \n",
      "39154       39154   Bradley Johnson      M  12th  Thomas High School   \n",
      "39162       39162       Derek Weeks      M  12th  Thomas High School   \n",
      "39165       39165      Donna Howard      F  12th  Thomas High School   \n",
      "\n",
      "       reading_score  math_score  School ID      type  size   budget  \n",
      "1               94.0        61.0          0  District  2917  1910635  \n",
      "2               90.0        60.0          0  District  2917  1910635  \n",
      "3               67.0        58.0          0  District  2917  1910635  \n",
      "7               96.0        69.0          0  District  2917  1910635  \n",
      "29              90.0        88.0          0  District  2917  1910635  \n",
      "...              ...         ...        ...       ...   ...      ...  \n",
      "39137           75.0        70.0         14   Charter  1635  1043130  \n",
      "39144           77.0        87.0         14   Charter  1635  1043130  \n",
      "39154           91.0        71.0         14   Charter  1635  1043130  \n",
      "39162           94.0        77.0         14   Charter  1635  1043130  \n",
      "39165           99.0        90.0         14   Charter  1635  1043130  \n",
      "\n",
      "[7899 rows x 11 columns]\n"
     ]
    }
   ],
   "source": [
    "print(twelfth_graders)"
   ]
  },
  {
   "cell_type": "code",
   "execution_count": 43,
   "id": "warming-metadata",
   "metadata": {},
   "outputs": [],
   "source": [
    "#tenth_graders = school_data_complete_df[(school_data_complete_df[\"school_name\"]) == \"Thomas High School\"].count()"
   ]
  },
  {
   "cell_type": "code",
   "execution_count": 52,
   "id": "plastic-vacation",
   "metadata": {},
   "outputs": [],
   "source": [
    "# print(tenth_graders)"
   ]
  },
  {
   "cell_type": "code",
   "execution_count": 57,
   "id": "continent-discovery",
   "metadata": {},
   "outputs": [],
   "source": [
    "# Step 6. Get all the students passing math from THS\n",
    "\n",
    "# Group each school Series by the school name for the average math score.\n",
    "ninth_grade_math_scores = ninth_graders.groupby([\"school_name\"]).mean()[\"math_score\"]\n",
    "\n",
    "tenth_grade_math_scores = tenth_graders.groupby([\"school_name\"]).mean()[\"math_score\"]\n",
    "\n",
    "eleventh_grade_math_scores = eleventh_graders.groupby([\"school_name\"]).mean()[\"math_score\"]\n",
    "\n",
    "twelfth_grade_math_scores = twelfth_graders.groupby([\"school_name\"]).mean()[\"math_score\"]"
   ]
  },
  {
   "cell_type": "code",
   "execution_count": 58,
   "id": "removable-pasta",
   "metadata": {},
   "outputs": [
    {
     "name": "stdout",
     "output_type": "stream",
     "text": [
      "school_name\n",
      "Bailey High School       77.083676\n",
      "Cabrera High School      83.094697\n",
      "Figueroa High School     76.403037\n",
      "Ford High School         77.361345\n",
      "Griffin High School      82.044010\n",
      "Hernandez High School    77.438495\n",
      "Holden High School       83.787402\n",
      "Huang High School        77.027251\n",
      "Johnson High School      77.187857\n",
      "Pena High School         83.625455\n",
      "Rodriguez High School    76.859966\n",
      "Shelton High School      83.420755\n",
      "Thomas High School             NaN\n",
      "Wilson High School       83.085578\n",
      "Wright High School       83.264706\n",
      "Name: math_score, dtype: float64 school_name\n",
      "Bailey High School       76.996772\n",
      "Cabrera High School      83.154506\n",
      "Figueroa High School     76.539974\n",
      "Ford High School         77.672316\n",
      "Griffin High School      84.229064\n",
      "Hernandez High School    77.337408\n",
      "Holden High School       83.429825\n",
      "Huang High School        75.908735\n",
      "Johnson High School      76.691117\n",
      "Pena High School         83.372000\n",
      "Rodriguez High School    76.612500\n",
      "Shelton High School      82.917411\n",
      "Thomas High School       83.087886\n",
      "Wilson High School       83.724422\n",
      "Wright High School       84.010288\n",
      "Name: math_score, dtype: float64 school_name\n",
      "Bailey High School       77.515588\n",
      "Cabrera High School      82.765560\n",
      "Figueroa High School     76.884344\n",
      "Ford High School         76.918058\n",
      "Griffin High School      83.842105\n",
      "Hernandez High School    77.136029\n",
      "Holden High School       85.000000\n",
      "Huang High School        76.446602\n",
      "Johnson High School      77.491653\n",
      "Pena High School         84.328125\n",
      "Rodriguez High School    76.395626\n",
      "Shelton High School      83.383495\n",
      "Thomas High School       83.498795\n",
      "Wilson High School       83.195326\n",
      "Wright High School       83.836782\n",
      "Name: math_score, dtype: float64 school_name\n",
      "Bailey High School       76.492218\n",
      "Cabrera High School      83.277487\n",
      "Figueroa High School     77.151369\n",
      "Ford High School         76.179963\n",
      "Griffin High School      83.356164\n",
      "Hernandez High School    77.186567\n",
      "Holden High School       82.855422\n",
      "Huang High School        77.225641\n",
      "Johnson High School      76.863248\n",
      "Pena High School         84.121547\n",
      "Rodriguez High School    77.690748\n",
      "Shelton High School      83.778976\n",
      "Thomas High School       83.497041\n",
      "Wilson High School       83.035794\n",
      "Wright High School       83.644986\n",
      "Name: math_score, dtype: float64\n"
     ]
    }
   ],
   "source": [
    "print(ninth_grade_math_scores, tenth_grade_math_scores, eleventh_grade_math_scores, twelfth_grade_math_scores)"
   ]
  },
  {
   "cell_type": "code",
   "execution_count": 59,
   "id": "global-service",
   "metadata": {},
   "outputs": [],
   "source": [
    "# Step 7. Get all the students passing reading from THS\n",
    "\n",
    "# Group each school Series by the school name for the average reading score.\n",
    "ninth_grade_reading_scores = ninth_graders.groupby([\"school_name\"]).mean()[\"reading_score\"]\n",
    "\n",
    "tenth_grade_reading_scores = tenth_graders.groupby([\"school_name\"]).mean()[\"reading_score\"]\n",
    "\n",
    "eleventh_grade_reading_scores = eleventh_graders.groupby([\"school_name\"]).mean()[\"reading_score\"]\n",
    "\n",
    "twelfth_grade_reading_scores = twelfth_graders.groupby([\"school_name\"]).mean()[\"reading_score\"]"
   ]
  },
  {
   "cell_type": "code",
   "execution_count": 60,
   "id": "cubic-gather",
   "metadata": {},
   "outputs": [
    {
     "name": "stdout",
     "output_type": "stream",
     "text": [
      "school_name\n",
      "Bailey High School       81.303155\n",
      "Cabrera High School      83.676136\n",
      "Figueroa High School     81.198598\n",
      "Ford High School         80.632653\n",
      "Griffin High School      83.369193\n",
      "Hernandez High School    80.866860\n",
      "Holden High School       83.677165\n",
      "Huang High School        81.290284\n",
      "Johnson High School      81.260714\n",
      "Pena High School         83.807273\n",
      "Rodriguez High School    80.993127\n",
      "Shelton High School      84.122642\n",
      "Thomas High School             NaN\n",
      "Wilson High School       83.939778\n",
      "Wright High School       83.833333\n",
      "Name: reading_score, dtype: float64 school_name\n",
      "Bailey High School       80.907183\n",
      "Cabrera High School      84.253219\n",
      "Figueroa High School     81.408912\n",
      "Ford High School         81.262712\n",
      "Griffin High School      83.706897\n",
      "Hernandez High School    80.660147\n",
      "Holden High School       83.324561\n",
      "Huang High School        81.512386\n",
      "Johnson High School      80.773431\n",
      "Pena High School         83.612000\n",
      "Rodriguez High School    80.629808\n",
      "Shelton High School      83.441964\n",
      "Thomas High School       84.254157\n",
      "Wilson High School       84.021452\n",
      "Wright High School       83.812757\n",
      "Name: reading_score, dtype: float64 school_name\n",
      "Bailey High School       80.945643\n",
      "Cabrera High School      83.788382\n",
      "Figueroa High School     80.640339\n",
      "Ford High School         80.403642\n",
      "Griffin High School      84.288089\n",
      "Hernandez High School    81.396140\n",
      "Holden High School       83.815534\n",
      "Huang High School        81.417476\n",
      "Johnson High School      80.616027\n",
      "Pena High School         84.335938\n",
      "Rodriguez High School    80.864811\n",
      "Shelton High School      84.373786\n",
      "Thomas High School       83.585542\n",
      "Wilson High School       83.764608\n",
      "Wright High School       84.156322\n",
      "Name: reading_score, dtype: float64 school_name\n",
      "Bailey High School       80.912451\n",
      "Cabrera High School      84.287958\n",
      "Figueroa High School     81.384863\n",
      "Ford High School         80.662338\n",
      "Griffin High School      84.013699\n",
      "Hernandez High School    80.857143\n",
      "Holden High School       84.698795\n",
      "Huang High School        80.305983\n",
      "Johnson High School      81.227564\n",
      "Pena High School         84.591160\n",
      "Rodriguez High School    80.376426\n",
      "Shelton High School      82.781671\n",
      "Thomas High School       83.831361\n",
      "Wilson High School       84.317673\n",
      "Wright High School       84.073171\n",
      "Name: reading_score, dtype: float64\n"
     ]
    }
   ],
   "source": [
    "# Step 8. Get all the students passing math and reading from THS\n",
    "\n",
    "print(ninth_grade_reading_scores, tenth_grade_reading_scores, eleventh_grade_reading_scores, twelfth_grade_reading_scores)"
   ]
  },
  {
   "cell_type": "code",
   "execution_count": null,
   "id": "rapid-front",
   "metadata": {},
   "outputs": [],
   "source": [
    "# Step 9. Calculate the percentage of 10th-12th grade students passing math from Thomas High School. \n",
    "\n"
   ]
  },
  {
   "cell_type": "code",
   "execution_count": null,
   "id": "hispanic-canvas",
   "metadata": {},
   "outputs": [],
   "source": [
    "# Step 10. Calculate the percentage of 10th-12th grade students passing reading from Thomas High School."
   ]
  },
  {
   "cell_type": "code",
   "execution_count": null,
   "id": "sorted-glenn",
   "metadata": {},
   "outputs": [],
   "source": [
    "# Step 11. Calculate the overall passing percentage of 10th-12th grade from Thomas High School. "
   ]
  },
  {
   "cell_type": "code",
   "execution_count": null,
   "id": "tender-abraham",
   "metadata": {},
   "outputs": [],
   "source": [
    "# Step 12. Replace the passing math percent for Thomas High School in the per_school_summary_df."
   ]
  },
  {
   "cell_type": "code",
   "execution_count": null,
   "id": "dress-culture",
   "metadata": {},
   "outputs": [],
   "source": [
    "# Step 13. Replace the passing reading percentage for Thomas High School in the per_school_summary_df."
   ]
  },
  {
   "cell_type": "code",
   "execution_count": null,
   "id": "changed-immunology",
   "metadata": {},
   "outputs": [],
   "source": [
    "# Step 14. Replace the overall passing percentage for Thomas High School in the per_school_summary_df."
   ]
  },
  {
   "cell_type": "code",
   "execution_count": null,
   "id": "defensive-pound",
   "metadata": {},
   "outputs": [],
   "source": [
    "# per_school_summary_df "
   ]
  },
  {
   "cell_type": "code",
   "execution_count": null,
   "id": "periodic-climate",
   "metadata": {},
   "outputs": [],
   "source": [
    "# High and Low Performing Schools \"below\""
   ]
  },
  {
   "cell_type": "code",
   "execution_count": null,
   "id": "proper-account",
   "metadata": {},
   "outputs": [],
   "source": [
    "# Sort and show top five schools."
   ]
  },
  {
   "cell_type": "code",
   "execution_count": null,
   "id": "unauthorized-sponsorship",
   "metadata": {},
   "outputs": [],
   "source": [
    "# Sort and show top five schools."
   ]
  },
  {
   "cell_type": "code",
   "execution_count": null,
   "id": "satisfactory-distribution",
   "metadata": {},
   "outputs": [],
   "source": [
    "# Math and Reading Scores by Grade \"below\""
   ]
  },
  {
   "cell_type": "code",
   "execution_count": null,
   "id": "formed-marketing",
   "metadata": {},
   "outputs": [],
   "source": [
    "# Create a Series of scores by grade levels using conditionals.\n",
    "\n",
    "\n",
    "# Group each school Series by the school name for the average math score.\n",
    "\n",
    "\n",
    "# Group each school Series by the school name for the average reading score.\n"
   ]
  },
  {
   "cell_type": "code",
   "execution_count": null,
   "id": "sexual-missouri",
   "metadata": {},
   "outputs": [],
   "source": [
    "# Combine each Series for average math scores by school into single data frame."
   ]
  },
  {
   "cell_type": "code",
   "execution_count": null,
   "id": "disturbed-machinery",
   "metadata": {},
   "outputs": [],
   "source": [
    "# Combine each Series for average reading scores by school into single data frame."
   ]
  },
  {
   "cell_type": "code",
   "execution_count": null,
   "id": "adjustable-richards",
   "metadata": {},
   "outputs": [],
   "source": [
    "# Format each grade column."
   ]
  },
  {
   "cell_type": "code",
   "execution_count": null,
   "id": "israeli-breeding",
   "metadata": {},
   "outputs": [],
   "source": [
    "# Remove the index.\n",
    "\n",
    "\n",
    "# Display the data frame\n"
   ]
  },
  {
   "cell_type": "code",
   "execution_count": null,
   "id": "relative-receiver",
   "metadata": {},
   "outputs": [],
   "source": [
    "## Remove the index.\n",
    "\n",
    "\n",
    "# Display the data frame"
   ]
  },
  {
   "cell_type": "code",
   "execution_count": null,
   "id": "administrative-brand",
   "metadata": {},
   "outputs": [],
   "source": [
    "# Scores by School Spending \"below\""
   ]
  },
  {
   "cell_type": "code",
   "execution_count": null,
   "id": "seasonal-package",
   "metadata": {},
   "outputs": [],
   "source": [
    "# Establish the spending bins and group names.\n",
    "\n",
    "\n",
    "# Categorize spending based on the bins.\n"
   ]
  },
  {
   "cell_type": "code",
   "execution_count": null,
   "id": "auburn-quantum",
   "metadata": {},
   "outputs": [],
   "source": [
    "# Calculate averages for the desired columns. "
   ]
  },
  {
   "cell_type": "code",
   "execution_count": null,
   "id": "infinite-tunisia",
   "metadata": {},
   "outputs": [],
   "source": [
    "# Create the DataFrame"
   ]
  },
  {
   "cell_type": "code",
   "execution_count": null,
   "id": "cosmetic-marks",
   "metadata": {},
   "outputs": [],
   "source": [
    "# Format the DataFrame"
   ]
  },
  {
   "cell_type": "code",
   "execution_count": null,
   "id": "broad-shoot",
   "metadata": {},
   "outputs": [],
   "source": [
    "# SCORES BY SCHOOL SIZE"
   ]
  },
  {
   "cell_type": "code",
   "execution_count": null,
   "id": "dense-treatment",
   "metadata": {},
   "outputs": [],
   "source": [
    "# Establish the bins.\n",
    "\n",
    "# Categorize spending based on the bins."
   ]
  },
  {
   "cell_type": "code",
   "execution_count": null,
   "id": "vocal-showcase",
   "metadata": {},
   "outputs": [],
   "source": [
    "# Calculate averages for the desired columns. "
   ]
  },
  {
   "cell_type": "code",
   "execution_count": null,
   "id": "nervous-measure",
   "metadata": {},
   "outputs": [],
   "source": [
    "# Assemble into DataFrame. "
   ]
  },
  {
   "cell_type": "code",
   "execution_count": null,
   "id": "first-display",
   "metadata": {},
   "outputs": [],
   "source": [
    "# Format the DataFrame  \n"
   ]
  },
  {
   "cell_type": "code",
   "execution_count": null,
   "id": "dietary-stevens",
   "metadata": {},
   "outputs": [],
   "source": [
    "# Scores by School Type \"below\""
   ]
  },
  {
   "cell_type": "code",
   "execution_count": null,
   "id": "considered-warrior",
   "metadata": {},
   "outputs": [],
   "source": [
    "# Calculate averages for the desired columns. "
   ]
  },
  {
   "cell_type": "code",
   "execution_count": null,
   "id": "wooden-border",
   "metadata": {},
   "outputs": [],
   "source": [
    "# Assemble into DataFrame. "
   ]
  },
  {
   "cell_type": "code",
   "execution_count": null,
   "id": "urban-collect",
   "metadata": {},
   "outputs": [],
   "source": [
    "# # Format the DataFrame "
   ]
  },
  {
   "cell_type": "code",
   "execution_count": null,
   "id": "advanced-closer",
   "metadata": {},
   "outputs": [],
   "source": [
    "# PyCitySchools.ipynb \"below\""
   ]
  },
  {
   "cell_type": "code",
   "execution_count": null,
   "id": "extended-affairs",
   "metadata": {},
   "outputs": [],
   "source": [
    "# Add the Pandas dependency.\n",
    "import pandas as pd"
   ]
  },
  {
   "cell_type": "code",
   "execution_count": null,
   "id": "finite-polish",
   "metadata": {},
   "outputs": [],
   "source": [
    "# Files to load\n",
    "school_data_to_load = \"Resources/schools_complete.csv\"\n",
    "student_data_to_load = \"Resources/students_complete.csv\""
   ]
  },
  {
   "cell_type": "code",
   "execution_count": null,
   "id": "czech-prototype",
   "metadata": {},
   "outputs": [],
   "source": [
    "# Add the dependencies.\n",
    "import pandas as pd\n",
    "import os"
   ]
  },
  {
   "cell_type": "code",
   "execution_count": null,
   "id": "promising-officer",
   "metadata": {},
   "outputs": [],
   "source": [
    "# Files to lead\n",
    "school_data_to_load = os.path.join(\"Resources\", \"schools_complete.csv\")\n",
    "student_data_to_load = os.path.join(\"Resources\", \"students_complete.csv\")"
   ]
  },
  {
   "cell_type": "code",
   "execution_count": null,
   "id": "elect-trace",
   "metadata": {},
   "outputs": [],
   "source": [
    "# Read the school data file and store it in a Pandas DataFrame.\n",
    "school_data_df = pd.read_csv(school_data_to_load)\n",
    "school_data_df"
   ]
  },
  {
   "cell_type": "code",
   "execution_count": null,
   "id": "conscious-warning",
   "metadata": {},
   "outputs": [],
   "source": [
    "# Read the student data file and store it in a Pandas DataFrame.\n",
    "student_data_df = pd.read_csv(student_data_to_load)\n",
    "student_data_df.head()"
   ]
  },
  {
   "cell_type": "code",
   "execution_count": null,
   "id": "recent-baptist",
   "metadata": {},
   "outputs": [],
   "source": [
    "# Determine if there are any missing values in the school data.\n",
    "school_data_df.count()"
   ]
  },
  {
   "cell_type": "code",
   "execution_count": null,
   "id": "ethical-anime",
   "metadata": {},
   "outputs": [],
   "source": [
    "# Add each prefix and suffix to remove to a list.\n",
    "prefixes_suffixes = [\"Dr. \", \"Mr. \", \"Ms. \", \"Mrs. \", \"Miss \", \" MD\", \" DDS\", \" DVM\", \" PhD\"]"
   ]
  },
  {
   "cell_type": "code",
   "execution_count": null,
   "id": "adjusted-citizen",
   "metadata": {},
   "outputs": [],
   "source": [
    "# Iterate through the words in the \"prefixes_suffixes\" list and replace them with an empty space, \"\".\n",
    "for word in prefixes_suffixes: \n",
    "    student_data_df[\"student_name\"] = student_data_df[\"student_name\"].str.replace(word,\"\")"
   ]
  },
  {
   "cell_type": "code",
   "execution_count": null,
   "id": "portable-lafayette",
   "metadata": {},
   "outputs": [],
   "source": [
    "# Combine the data into a single dataset.\n",
    "school_data_complete_df = pd.merge(student_data_df, school_data_df, on=[\"school_name\", \"school_name\"])\n",
    "school_data_complete_df.head()"
   ]
  },
  {
   "cell_type": "code",
   "execution_count": null,
   "id": "distributed-temple",
   "metadata": {},
   "outputs": [],
   "source": [
    "# Get the total number of students. \n",
    "student_count = school_data_complete_df.count()\n",
    "student_count"
   ]
  },
  {
   "cell_type": "code",
   "execution_count": null,
   "id": "recovered-course",
   "metadata": {},
   "outputs": [],
   "source": [
    "student_count = school_data_complete_df[\"Student ID\"].count()"
   ]
  },
  {
   "cell_type": "code",
   "execution_count": null,
   "id": "jewish-evidence",
   "metadata": {},
   "outputs": [],
   "source": [
    "# Calculate the total number of schools.\n",
    "school_count = school_data_df[\"school_name\"].count()\n",
    "school_count"
   ]
  },
  {
   "cell_type": "code",
   "execution_count": null,
   "id": "advanced-integrity",
   "metadata": {},
   "outputs": [],
   "source": [
    "# Calculate the total number of schools\n",
    "school_count_2 = school_data_complete_df[\"school_name\"].unique()"
   ]
  },
  {
   "cell_type": "code",
   "execution_count": null,
   "id": "lightweight-newman",
   "metadata": {},
   "outputs": [],
   "source": [
    "# Calculate the total budget.\n",
    "total_budget = school_data_df[\"budget\"].sum()\n",
    "total_budget"
   ]
  },
  {
   "cell_type": "code",
   "execution_count": null,
   "id": "relative-enforcement",
   "metadata": {},
   "outputs": [],
   "source": [
    "# Calculate the average reading score.\n",
    "average_reading_score = school_data_complete_df[\"reading_score\"].mean()\n",
    "average_reading_score"
   ]
  },
  {
   "cell_type": "code",
   "execution_count": null,
   "id": "cleared-robin",
   "metadata": {},
   "outputs": [],
   "source": [
    "# Calculate the average math score.\n",
    "average_math_score = school_data_complete_df[\"math_score\"].mean()\n",
    "average_math_score"
   ]
  },
  {
   "cell_type": "code",
   "execution_count": null,
   "id": "reserved-harassment",
   "metadata": {},
   "outputs": [],
   "source": [
    "passing_math = school_data_complete_df[\"math_score\"] >= 70\n",
    "passing_reading = school_data_complete_df[\"reading_score\"] >= 70"
   ]
  },
  {
   "cell_type": "code",
   "execution_count": null,
   "id": "united-cassette",
   "metadata": {},
   "outputs": [],
   "source": [
    "passing_math = school_data_complete_df[\"math_score\"] >= 70\n",
    "passing_math"
   ]
  },
  {
   "cell_type": "code",
   "execution_count": null,
   "id": "grateful-terrorist",
   "metadata": {},
   "outputs": [],
   "source": [
    "passing_reading = school_data_complete_df[\"reading_score\"] >= 70\n",
    "passing_reading"
   ]
  },
  {
   "cell_type": "code",
   "execution_count": null,
   "id": "greatest-special",
   "metadata": {},
   "outputs": [],
   "source": [
    "# Get all the students who are passing math in a new DataFrame.\n",
    "passing_math = school_data_complete_df[school_data_complete_df[\"math_score\"] >= 70]\n",
    "passing_math.head()"
   ]
  },
  {
   "cell_type": "code",
   "execution_count": null,
   "id": "blessed-warner",
   "metadata": {},
   "outputs": [],
   "source": [
    "# Get all the students that are passing reading in a new DataFrame. \n",
    "passing_reading = school_data_complete_df[school_data_complete_df[\"reading_score\"] >= 70]"
   ]
  },
  {
   "cell_type": "code",
   "execution_count": null,
   "id": "noticed-writing",
   "metadata": {},
   "outputs": [],
   "source": [
    "# Calculate the number of students passing math.\n",
    "passing_math_count = passing_math[\"student_name\"].count()\n",
    "\n",
    "# Calculate the number of students passing reading.\n",
    "passing_reading_count = passing_reading[\"student_name\"].count()"
   ]
  },
  {
   "cell_type": "code",
   "execution_count": null,
   "id": "hungarian-aviation",
   "metadata": {},
   "outputs": [],
   "source": [
    "print(passing_math_count)\n",
    "print(passing_reading_count)"
   ]
  },
  {
   "cell_type": "code",
   "execution_count": null,
   "id": "bottom-family",
   "metadata": {},
   "outputs": [],
   "source": [
    "# Get all the students with passing math percentage in a new DataFrame.\n",
    "#passing_math_percentage = school_data_complete_df[school_data_complete_df[\"math_score\"] >= 70]\n",
    "#passing_math.head()"
   ]
  },
  {
   "cell_type": "code",
   "execution_count": null,
   "id": "unlike-wiring",
   "metadata": {},
   "outputs": [],
   "source": [
    "# Calculate the percentage that passed math.\n",
    "passing_math_percentage = passing_math_count / (student_count) * 100\n",
    "\n",
    "# Calculate the percentage that passed reading.\n",
    "passing_reading_percentage = passing_reading_count / (student_count) * 100"
   ]
  },
  {
   "cell_type": "code",
   "execution_count": null,
   "id": "ordinary-pledge",
   "metadata": {},
   "outputs": [],
   "source": [
    "print(passing_math_percentage)\n",
    "print(passing_reading_percentage)"
   ]
  },
  {
   "cell_type": "code",
   "execution_count": null,
   "id": "handy-regulation",
   "metadata": {},
   "outputs": [],
   "source": [
    "# Calculate the students who passed both math and reading.\n",
    "passing_math_reading = school_data_complete_df[(school_data_complete_df[\"math_score\"] >= 70) & (school_data_complete_df[\"reading_score\"] >= 70)]\n",
    "\n",
    "passing_math_reading.head()"
   ]
  },
  {
   "cell_type": "code",
   "execution_count": null,
   "id": "streaming-decimal",
   "metadata": {},
   "outputs": [],
   "source": [
    "# Calculate the number of students who passed both math and reading.\n",
    "overall_passing_math_reading_count = passing_math_reading[\"student_name\"].count()\n",
    "overall_passing_math_reading_count"
   ]
  },
  {
   "cell_type": "code",
   "execution_count": null,
   "id": "straight-retirement",
   "metadata": {},
   "outputs": [],
   "source": [
    "# Calculate the overall passing percentage.\n",
    "overall_passing_percentage = overall_passing_math_reading_count / student_count * 100\n",
    "overall_passing_percentage"
   ]
  },
  {
   "cell_type": "code",
   "execution_count": null,
   "id": "offshore-marijuana",
   "metadata": {},
   "outputs": [],
   "source": [
    "# Adding a list of values with keys to create a new DataFrame.\n",
    "district_summary_df = pd.DataFrame(\n",
    "            [{\"Total Schools\": school_count,\n",
    "              \"Total Students\": student_count,\n",
    "              \"Total Budget\": total_budget,\n",
    "              \"Average Math Score\": average_math_score,\n",
    "              \"Average Reading Score\": average_reading_score,\n",
    "              \"% Passing Math\": passing_math_percentage,\n",
    "              \"% Passing Reading\": passing_reading_percentage,\n",
    "              \"% Overall Passing\": overall_passing_percentage}])\n",
    "district_summary_df"
   ]
  },
  {
   "cell_type": "code",
   "execution_count": null,
   "id": "eight-messenger",
   "metadata": {},
   "outputs": [],
   "source": [
    "# Define a function that calculates the percentage of students that passed both # math and reading and prints the passing percentage to the output when the\n",
    "# function is called. \n",
    "def passing_math_percent(pass_math_count, student_count):\n",
    "    return pass_math_count / float(student_count) * 100"
   ]
  },
  {
   "cell_type": "code",
   "execution_count": null,
   "id": "valid-response",
   "metadata": {},
   "outputs": [],
   "source": [
    "passing_math_count = 29370\n",
    "total_student_count = 39170"
   ]
  },
  {
   "cell_type": "code",
   "execution_count": null,
   "id": "average-theme",
   "metadata": {},
   "outputs": [],
   "source": [
    "# Call the function.\n",
    "passing_math_percent(passing_math_count, total_student_count)"
   ]
  },
  {
   "cell_type": "code",
   "execution_count": null,
   "id": "absent-agreement",
   "metadata": {},
   "outputs": [],
   "source": [
    "# A lsit of my grades.\n",
    "my_grades = ['B', 'C', 'B', 'D']"
   ]
  },
  {
   "cell_type": "code",
   "execution_count": null,
   "id": "spread-apple",
   "metadata": {},
   "outputs": [],
   "source": [
    "# Import pandas.\n",
    "import pandas as pd\n",
    "# Convert the my_grades to a Series\n",
    "my_grades = pd.Series(my_grades)\n",
    "my_grades"
   ]
  },
  {
   "cell_type": "code",
   "execution_count": null,
   "id": "important-analyst",
   "metadata": {},
   "outputs": [],
   "source": [
    "# Change the grades by one letter grade.\n",
    "my_grades.map({'B': 'A', 'C': 'B', 'D': 'C'})"
   ]
  },
  {
   "cell_type": "code",
   "execution_count": null,
   "id": "photographic-selection",
   "metadata": {},
   "outputs": [],
   "source": [
    "# Using the format() function.\n",
    "my_grades = [92.34, 84.56, 86.78, 98.32]\n",
    "\n",
    "for grade in my_grades:\n",
    "    print(\"{:.0f}\".format(grade))"
   ]
  },
  {
   "cell_type": "code",
   "execution_count": null,
   "id": "familiar-break",
   "metadata": {},
   "outputs": [],
   "source": [
    "# Convert the numerical grades to a Series.\n",
    "my_grades = pd.Series([92.34, 84.56, 86.78, 78.32])"
   ]
  },
  {
   "cell_type": "code",
   "execution_count": null,
   "id": "fatty-flooring",
   "metadata": {},
   "outputs": [],
   "source": [
    "# Format the grades to the nearest whole number percent.\n",
    "my_grades.map(\"{:.0f}\".format)"
   ]
  },
  {
   "cell_type": "code",
   "execution_count": null,
   "id": "wrong-philosophy",
   "metadata": {},
   "outputs": [],
   "source": [
    "#df[\"column\"] = df[\"column\"].map(\"{:,}\".format)\n",
    "district_summary_df[\"Total Students\"]"
   ]
  },
  {
   "cell_type": "code",
   "execution_count": null,
   "id": "innocent-jones",
   "metadata": {
    "scrolled": true
   },
   "outputs": [],
   "source": [
    "# Format the \"Total Students\" to have the comma for a thousands separator.\n",
    "district_summary_df[\"Total Students\"] = district_summary_df[\"Total Students\"].map(\"{:,}\".format)\n",
    "# Display the data frame  \"df = data frame\"\n",
    "district_summary_df[\"Total Students\"]"
   ]
  },
  {
   "cell_type": "code",
   "execution_count": null,
   "id": "handled-personal",
   "metadata": {},
   "outputs": [],
   "source": [
    "# Format \"Total Budget\" to have the comma for a thousands separator, a decimal separator, and a \"$\".\n",
    "district_summary_df[\"Total Budget\"] = district_summary_df[\"Total Budget\"].map(\"${:,.2f}\".format)"
   ]
  },
  {
   "cell_type": "code",
   "execution_count": null,
   "id": "sustained-retail",
   "metadata": {
    "scrolled": false
   },
   "outputs": [],
   "source": [
    "# Format the columns.\n",
    "district_summary_df[\"Average Math Score\"] = district_summary_df[\"Average Math Score\"].map(\"{:.1f}\".format)\n",
    "\n",
    "district_summary_df[\"Average Reading Score\"] = district_summary_df[\"Average Reading Score\"].map(\"{:.1f}\".format)\n",
    "\n",
    "district_summary_df[\"% Passing Math\"] = district_summary_df[\"% Passing Math\"].map(\"{:.0f}\".format)\n",
    "\n",
    "district_summary_df[\"% Passing Reading\"] = district_summary_df[\"% Passing Reading\"].map(\"{:.0f}\".format)\n",
    "\n",
    "district_summary_df[\"% Overall Passing\"] = district_summary_df[\"% Overall Passing\"].map(\"{:.0f}\".format)"
   ]
  },
  {
   "cell_type": "code",
   "execution_count": null,
   "id": "configured-check",
   "metadata": {},
   "outputs": [],
   "source": [
    "# Reorder the columns in the order you want them to appear.\n",
    "# new_column_order = [\"column2\", \"column4\", \"column1\"]\n",
    "\n",
    "# Assign a new or the same DataFrame the new column order.\n",
    "#df = df[new_column_order]"
   ]
  },
  {
   "cell_type": "code",
   "execution_count": null,
   "id": "blond-airline",
   "metadata": {
    "scrolled": false
   },
   "outputs": [],
   "source": [
    "# Reorder the columns in the order you want them to appear.\n",
    "new_column_order = [\"Total Schools\", \"Total Students\", \"Total Budget\", \"Average Math Score\", \"Average Reading Score\", \"% Passing Math\", \"% Passing Reading\", \"% Overall Passing\"]\n",
    "\n",
    "# Assign district summary df the new column order.\n",
    "district_summary_df = district_summary_df[new_column_order]\n",
    "district_summary_df"
   ]
  },
  {
   "cell_type": "code",
   "execution_count": null,
   "id": "velvet-notion",
   "metadata": {},
   "outputs": [],
   "source": [
    "# Determine the school type.\n",
    "per_school_types = school_data_df.set_index([\"school_name\"])[\"type\"]"
   ]
  },
  {
   "cell_type": "code",
   "execution_count": null,
   "id": "dimensional-allen",
   "metadata": {},
   "outputs": [],
   "source": [
    "# Add the per_school_types into a DataFrame for testing.\n",
    "df = pd.DataFrame(per_school_types)\n",
    "df"
   ]
  },
  {
   "cell_type": "code",
   "execution_count": null,
   "id": "dietary-score",
   "metadata": {},
   "outputs": [],
   "source": [
    "# Calculate the total student count.\n",
    "per_school_counts = school_data_df[\"size\"]\n",
    "per_school_counts"
   ]
  },
  {
   "cell_type": "code",
   "execution_count": null,
   "id": "lasting-silence",
   "metadata": {},
   "outputs": [],
   "source": [
    "# Calculate the total student count.\n",
    "per_school_counts = school_data_df.set_index([\"school_name\"])[\"size\"]\n",
    "per_school_counts"
   ]
  },
  {
   "cell_type": "code",
   "execution_count": null,
   "id": "acquired-leadership",
   "metadata": {},
   "outputs": [],
   "source": [
    "# Calculate the total student count.\n",
    "per_school_counts = school_data_complete_df[\"school_name\"].value_counts()\n",
    "per_school_counts"
   ]
  },
  {
   "cell_type": "code",
   "execution_count": null,
   "id": "recognized-batman",
   "metadata": {},
   "outputs": [],
   "source": [
    "# Calculate the total school budget.\n",
    "per_school_budget = school_data_df.set_index([\"school_name\"])[\"budget\"]\n",
    "per_school_budget"
   ]
  },
  {
   "cell_type": "code",
   "execution_count": null,
   "id": "global-expert",
   "metadata": {},
   "outputs": [],
   "source": [
    "# Calculate the per capita spending.\n",
    "per_school_capita = per_school_budget / per_school_counts\n",
    "per_school_capita"
   ]
  },
  {
   "cell_type": "code",
   "execution_count": null,
   "id": "nutritional-observer",
   "metadata": {},
   "outputs": [],
   "source": [
    "# Calculate the math scores.\n",
    "student_school_math = student_data_df.set_index([\"school_name\"])[\"math_score\"]\n",
    "student_school_math"
   ]
  },
  {
   "cell_type": "code",
   "execution_count": null,
   "id": "genetic-campus",
   "metadata": {},
   "outputs": [],
   "source": [
    "# Calculate the average math scores.\n",
    "per_school_averages = school_data_complete_df.groupby([\"school_name\"]).mean()\n",
    "per_school_averages"
   ]
  },
  {
   "cell_type": "code",
   "execution_count": null,
   "id": "isolated-electronics",
   "metadata": {},
   "outputs": [],
   "source": [
    "# Calculate the average test scores. \"To add math_score and reading_score at the end to the average score for both\"\n",
    "per_school_math = school_data_complete_df.groupby([\"school_name\"]).mean()[\"math_score\"]\n",
    "\n",
    "per_school_reading = school_data_complete_df.groupby([\"school_name\"]).mean()[\"reading_score\"]"
   ]
  },
  {
   "cell_type": "code",
   "execution_count": null,
   "id": "clean-interview",
   "metadata": {},
   "outputs": [],
   "source": [
    "# To get the passing percentages, we need to:\n",
    "# 1. Determine what is the passing grade.\n",
    "# 2. Get the number of students who passed math and reading.\n",
    "# 3. Get the students who passed math and passed reading."
   ]
  },
  {
   "cell_type": "code",
   "execution_count": null,
   "id": "romance-paris",
   "metadata": {},
   "outputs": [],
   "source": [
    "# Determine what is the passing grade. \"view below\""
   ]
  },
  {
   "cell_type": "code",
   "execution_count": null,
   "id": "korean-shuttle",
   "metadata": {},
   "outputs": [],
   "source": [
    "# Calculate the passing score by creating a filtered DataFrame.\n",
    "per_school_passing_math = school_data_complete_df[(school_data_complete_df[\"math_score\"] >= 70)]\n",
    "per_school_passing_reading = school_data_complete_df[(school_data_complete_df[\"reading_score\"] >= 70)]\n",
    "\n",
    "per_school_passing_math.head()"
   ]
  },
  {
   "cell_type": "code",
   "execution_count": null,
   "id": "progressive-certification",
   "metadata": {},
   "outputs": [],
   "source": [
    "# Get the number of students who passed math and reading \"view below\""
   ]
  },
  {
   "cell_type": "code",
   "execution_count": null,
   "id": "downtown-convert",
   "metadata": {},
   "outputs": [],
   "source": [
    "# Calculate the number of students passing math and passing reading by school.\n",
    "per_school_passing_math = per_school_passing_math.groupby([\"school_name\"]).count()[\"student_name\"]\n",
    "per_school_passing_reading = per_school_passing_reading.groupby([\"school_name\"]).count()[\"student_name\"]"
   ]
  },
  {
   "cell_type": "code",
   "execution_count": null,
   "id": "stunning-expansion",
   "metadata": {},
   "outputs": [],
   "source": [
    "print(per_school_passing_math)"
   ]
  },
  {
   "cell_type": "code",
   "execution_count": null,
   "id": "minus-nothing",
   "metadata": {},
   "outputs": [],
   "source": [
    "# Get the students who passed math and passed reading. \"view below\""
   ]
  },
  {
   "cell_type": "code",
   "execution_count": null,
   "id": "hungry-painting",
   "metadata": {},
   "outputs": [],
   "source": [
    "# Calculate the percentage of passing math and reading scores per school. \n",
    "per_school_passing_math = per_school_passing_math / per_school_counts * 100\n",
    "\n",
    "per_school_passing_reading = per_school_passing_reading / per_school_counts * 100"
   ]
  },
  {
   "cell_type": "code",
   "execution_count": null,
   "id": "random-invasion",
   "metadata": {},
   "outputs": [],
   "source": [
    "print(per_school_passing_math)"
   ]
  },
  {
   "cell_type": "code",
   "execution_count": null,
   "id": "vietnamese-patch",
   "metadata": {},
   "outputs": [],
   "source": [
    "# Overall passing score "
   ]
  },
  {
   "cell_type": "code",
   "execution_count": null,
   "id": "equipped-houston",
   "metadata": {},
   "outputs": [],
   "source": [
    "# Calculate the students who passed both math and reading.\n",
    "per_passing_math_reading = school_data_complete_df[(school_data_complete_df[\"math_score\"] >= 70) & (school_data_complete_df[\"reading_score\"] >= 70)]"
   ]
  },
  {
   "cell_type": "code",
   "execution_count": null,
   "id": "blond-police",
   "metadata": {},
   "outputs": [],
   "source": [
    "per_passing_math_reading.head()"
   ]
  },
  {
   "cell_type": "code",
   "execution_count": null,
   "id": "uniform-asthma",
   "metadata": {},
   "outputs": [],
   "source": [
    "# Students who passed both math and reading"
   ]
  },
  {
   "cell_type": "code",
   "execution_count": null,
   "id": "certified-better",
   "metadata": {},
   "outputs": [],
   "source": [
    "# Calculate the number of students who passed both math and reading.\n",
    "per_passing_math_reading = per_passing_math_reading.groupby([\"school_name\"]).count()[\"student_name\"]"
   ]
  },
  {
   "cell_type": "code",
   "execution_count": null,
   "id": "indonesian-reducing",
   "metadata": {},
   "outputs": [],
   "source": [
    "# Calculate the overall passing percentage.\n",
    "per_overall_passing_percentage = per_passing_math_reading / per_school_counts * 100"
   ]
  },
  {
   "cell_type": "code",
   "execution_count": null,
   "id": "floating-disposition",
   "metadata": {},
   "outputs": [],
   "source": [
    "print(per_overall_passing_percentage)"
   ]
  },
  {
   "cell_type": "code",
   "execution_count": null,
   "id": "figured-camping",
   "metadata": {},
   "outputs": [],
   "source": [
    "# Add a new list of values with keys to create a new DataFrame \"per_school_summary_df\""
   ]
  },
  {
   "cell_type": "code",
   "execution_count": null,
   "id": "recognized-binary",
   "metadata": {},
   "outputs": [],
   "source": [
    "# Adding a list of values with keys to create a new DataFrame.\n",
    "per_school_summary_df = pd.DataFrame({\n",
    "    \"School Type\": per_school_types,\n",
    "    \"Total Students\": per_school_counts,\n",
    "    \"Total School Budget\": per_school_budget,\n",
    "    \"Per Student Budget\": per_school_capita,\n",
    "    \"Average Math Score\": per_school_math,\n",
    "    \"Average Reading Score\": per_school_reading,\n",
    "    \"% Passing Math\": per_school_passing_math,\n",
    "    \"% Passing Reading\": per_school_passing_reading,\n",
    "    \"% Overall Passing\": per_overall_passing_percentage})\n",
    "per_school_summary_df.head()"
   ]
  },
  {
   "cell_type": "code",
   "execution_count": null,
   "id": "recreational-neighborhood",
   "metadata": {},
   "outputs": [],
   "source": [
    "# Format the Total School Budget and the Per Student Budget columns.\n",
    "per_school_summary_df[\"Total School Budget\"] = per_school_summary_df[\"Per Student Budget\"].map(\"${:,.2f}\".format)\n",
    "\n",
    "# Display the data frame\n",
    "per_school_summary_df.head()"
   ]
  },
  {
   "cell_type": "code",
   "execution_count": null,
   "id": "healthy-covering",
   "metadata": {},
   "outputs": [],
   "source": [
    "# To reorder columns, \"view below\""
   ]
  },
  {
   "cell_type": "code",
   "execution_count": null,
   "id": "decent-lighting",
   "metadata": {
    "scrolled": true
   },
   "outputs": [],
   "source": [
    "# Reorder the columns in the order you want them to appear\n",
    "new_column_order = [\"School Type\", \"Total Students\", \"Total School Budget\", \"Per Student Budget\", \"Average Math Score\", \"Average Reading Score\", \"% Passing Math\", \"% Passing Reading\", \"% Overall Passing\"]\n",
    "\n",
    "# Assign district summary df the new column order.\n",
    "per_school_summary_df = per_school_summary_df[new_column_order]\n",
    "\n",
    "per_school_summary_df.head()"
   ]
  },
  {
   "cell_type": "code",
   "execution_count": null,
   "id": "dietary-crawford",
   "metadata": {},
   "outputs": [],
   "source": [
    "# Highest Performing Schools \"view below\""
   ]
  },
  {
   "cell_type": "code",
   "execution_count": null,
   "id": "civilian-flour",
   "metadata": {},
   "outputs": [],
   "source": [
    "# Sort and show top five schools.\n",
    "top_schools = per_school_summary_df.sort_values([\"% Overall Passing\"], ascending=False)"
   ]
  },
  {
   "cell_type": "code",
   "execution_count": null,
   "id": "neural-temperature",
   "metadata": {},
   "outputs": [],
   "source": [
    "top_schools.head()"
   ]
  },
  {
   "cell_type": "code",
   "execution_count": null,
   "id": "consecutive-probability",
   "metadata": {},
   "outputs": [],
   "source": [
    "# Lowest Performing Schools \"view below\""
   ]
  },
  {
   "cell_type": "code",
   "execution_count": null,
   "id": "following-chamber",
   "metadata": {},
   "outputs": [],
   "source": [
    "# Sort and show top five schools.\n",
    "bottom_schools = per_school_summary_df.sort_values([\"% Overall Passing\"], ascending=True)\n",
    "\n",
    "bottom_schools.head()"
   ]
  },
  {
   "cell_type": "code",
   "execution_count": null,
   "id": "atmospheric-circular",
   "metadata": {},
   "outputs": [],
   "source": [
    "# Create a grade level DataFrames.\n",
    "ninth_graders = school_data_complete_df[(school_data_complete_df[\"grade\"]) == \"9th\"]\n",
    "\n",
    "tenth_graders = school_data_complete_df[(school_data_complete_df[\"grade\"]) == \"10th\"]\n",
    "\n",
    "eleventh_graders = school_data_complete_df[(school_data_complete_df[\"grade\"]) == \"11th\"]\n",
    "\n",
    "twelfth_graders = school_data_complete_df[(school_data_complete_df[\"grade\"]) == \"12th\"]"
   ]
  },
  {
   "cell_type": "code",
   "execution_count": null,
   "id": "jewish-boston",
   "metadata": {},
   "outputs": [],
   "source": [
    "ninth_graders.head()"
   ]
  },
  {
   "cell_type": "code",
   "execution_count": null,
   "id": "random-teacher",
   "metadata": {},
   "outputs": [],
   "source": [
    "# Average Math Scores by School"
   ]
  },
  {
   "cell_type": "code",
   "execution_count": null,
   "id": "wanted-necessity",
   "metadata": {},
   "outputs": [],
   "source": [
    "# Group each school Series by the school name for the average math score.\n",
    "ninth_grade_math_scores = ninth_graders.groupby([\"school_name\"]).mean()[\"math_score\"]\n",
    "\n",
    "tenth_grade_math_scores = tenth_graders.groupby([\"school_name\"]).mean()[\"math_score\"]\n",
    "\n",
    "eleventh_grade_math_scores = eleventh_graders.groupby([\"school_name\"]).mean()[\"math_score\"]\n",
    "\n",
    "twelfth_grade_math_scores = twelfth_graders.groupby([\"school_name\"]).mean()[\"math_score\"]"
   ]
  },
  {
   "cell_type": "code",
   "execution_count": null,
   "id": "after-damages",
   "metadata": {},
   "outputs": [],
   "source": [
    "print(ninth_grade_math_scores, tenth_grade_math_scores, eleventh_grade_math_scores, twelfth_grade_math_scores)"
   ]
  },
  {
   "cell_type": "code",
   "execution_count": null,
   "id": "frequent-karma",
   "metadata": {},
   "outputs": [],
   "source": [
    "print(ninth_grade_math_scores)"
   ]
  },
  {
   "cell_type": "code",
   "execution_count": null,
   "id": "married-bermuda",
   "metadata": {},
   "outputs": [],
   "source": [
    "# Average Reading Scores by Scores"
   ]
  },
  {
   "cell_type": "code",
   "execution_count": null,
   "id": "loaded-stake",
   "metadata": {},
   "outputs": [],
   "source": [
    "# Group each school Series by the school name for the average reading score.\n",
    "ninth_grade_reading_scores = ninth_graders.groupby([\"school_name\"]).mean()[\"reading_score\"]\n",
    "\n",
    "tenth_grade_reading_scores = tenth_graders.groupby([\"school_name\"]).mean()[\"reading_score\"]\n",
    "\n",
    "eleventh_grade_reading_scores = eleventh_graders.groupby([\"school_name\"]).mean()[\"reading_score\"]\n",
    "\n",
    "twelfth_grade_reading_scores = twelfth_graders.groupby([\"school_name\"]).mean()[\"reading_score\"]"
   ]
  },
  {
   "cell_type": "code",
   "execution_count": null,
   "id": "quiet-injection",
   "metadata": {},
   "outputs": [],
   "source": [
    "print(ninth_grade_reading_scores, tenth_grade_reading_scores, eleventh_grade_reading_scores, twelfth_grade_reading_scores)"
   ]
  },
  {
   "cell_type": "code",
   "execution_count": null,
   "id": "light-granny",
   "metadata": {},
   "outputs": [],
   "source": [
    "print(ninth_grade_reading_scores)"
   ]
  },
  {
   "cell_type": "code",
   "execution_count": null,
   "id": "personalized-intervention",
   "metadata": {},
   "outputs": [],
   "source": [
    "# Combine each Series for average math scores by school into single DataFrame.\n",
    "math_scores_by_grade = pd.DataFrame({\n",
    "    \"9th\": ninth_grade_math_scores,\n",
    "    \"10th\": tenth_grade_math_scores,\n",
    "    \"11th\": eleventh_grade_math_scores,\n",
    "    \"12th\": twelfth_grade_math_scores})\n",
    "\n",
    "math_scores_by_grade.head()"
   ]
  },
  {
   "cell_type": "code",
   "execution_count": null,
   "id": "respective-execution",
   "metadata": {
    "scrolled": true
   },
   "outputs": [],
   "source": [
    "# Combine each Series for average reading scores by school into single DataFrame.\n",
    "reading_scores_by_grade = pd.DataFrame({\n",
    "        \"9th\": ninth_grade_reading_scores,\n",
    "        \"10th\": tenth_grade_reading_scores,\n",
    "        \"11th\": eleventh_grade_reading_scores,\n",
    "        \"12th\": twelfth_grade_reading_scores})\n",
    "\n",
    "reading_scores_by_grade.head()"
   ]
  },
  {
   "cell_type": "code",
   "execution_count": null,
   "id": "greenhouse-evanescence",
   "metadata": {},
   "outputs": [],
   "source": [
    "# Remove the index school_name"
   ]
  },
  {
   "cell_type": "code",
   "execution_count": null,
   "id": "comparable-blind",
   "metadata": {},
   "outputs": [],
   "source": [
    "# Format each grade column.\n",
    "math_scores_by_grade[\"9th\"] = math_scores_by_grade[\"9th\"].map(\"{:.1f}\".format)\n",
    "\n",
    "math_scores_by_grade[\"10th\"] = math_scores_by_grade[\"10th\"].map(\"{:.1f}\".format)\n",
    "\n",
    "math_scores_by_grade[\"11th\"] = math_scores_by_grade[\"11th\"].map(\"{:.1f}\".format)\n",
    "\n",
    "math_scores_by_grade[\"12th\"] = math_scores_by_grade[\"12th\"].map(\"{:.1f}\".format)\n",
    "\n",
    "# Make sure the columns are in the correct order. \n",
    "math_scores_by_grade = math_scores_by_grade[\n",
    "                [\"9th\", \"10th\", \"11th\", \"12th\"]]\n",
    "\n",
    "# Remove the index name.\n",
    "math_scores_by_grade.index.name = None\n",
    "# Display the DataFrame.\n",
    "math_scores_by_grade.head()"
   ]
  },
  {
   "cell_type": "code",
   "execution_count": null,
   "id": "liked-exercise",
   "metadata": {},
   "outputs": [],
   "source": [
    "# Remove index name for the reading_scores_by_grade DataFrame"
   ]
  },
  {
   "cell_type": "code",
   "execution_count": null,
   "id": "documented-order",
   "metadata": {},
   "outputs": [],
   "source": [
    "# Format each grade column. \n",
    "reading_scores_by_grade[\"9th\"] = reading_scores_by_grade[\"9th\"].map(\"{:,.1f}\".format)\n",
    "\n",
    "reading_scores_by_grade[\"10th\"] = reading_scores_by_grade[\"10th\"].map(\"{:,.1f}\".format)\n",
    "\n",
    "reading_scores_by_grade[\"11th\"] = reading_scores_by_grade[\"11th\"].map(\"{:,.1f}\".format)\n",
    "\n",
    "reading_scores_by_grade[\"12th\"] = reading_scores_by_grade[\"12th\"].map(\"{:,.1f}\".format)\n",
    "\n",
    "# Make sure the columns are in the correct order.\n",
    "reading_scores_by_grade = reading_scores_by_grade[\n",
    "                [\"9th\", \"10th\", \"11th\", \"12th\"]]\n",
    "\n",
    "# Remove the index name.\n",
    "reading_scores_by_grade.index.name = None\n",
    "# Display the data frame.\n",
    "reading_scores_by_grade.head()"
   ]
  },
  {
   "cell_type": "code",
   "execution_count": null,
   "id": "formal-marathon",
   "metadata": {},
   "outputs": [],
   "source": [
    "# 1. Group the schools into four bins, or ranges, based on the budget per student.\n",
    "# 2. For each spending range, get the following data:\n",
    "#     - Average math and reading scores\n",
    "#     - The percentage of students passing math and reading\n",
    "#     - The overall passing percentage, which is the average of the\n",
    "#       percentage of students passing math and reading. "
   ]
  },
  {
   "cell_type": "code",
   "execution_count": null,
   "id": "rising-friday",
   "metadata": {},
   "outputs": [],
   "source": [
    "# Determine the distribution of spending per student using the describe() method."
   ]
  },
  {
   "cell_type": "code",
   "execution_count": null,
   "id": "superb-number",
   "metadata": {},
   "outputs": [],
   "source": [
    "# Get the descriptive statistics for the per_school_capita.\n",
    "per_school_capita.describe()"
   ]
  },
  {
   "cell_type": "code",
   "execution_count": null,
   "id": "under-halloween",
   "metadata": {},
   "outputs": [],
   "source": [
    "# There is only one school at/below $578. The lowest bin should be at and/or below $578. \n",
    "# Making the lowest bin between $0 -$578\n",
    "# Standard deviation is approximately 30\n",
    "# The bins will increase by $30, up to $675.\n",
    "# Bins \"spending ranges\" below:\n",
    "# ($585: $0-$585), ($615: $586-$615), ($645: $616-$645), ($675: $646-$675) "
   ]
  },
  {
   "cell_type": "code",
   "execution_count": null,
   "id": "dressed-lender",
   "metadata": {},
   "outputs": [],
   "source": [
    "# Group the series on spending ranges"
   ]
  },
  {
   "cell_type": "code",
   "execution_count": null,
   "id": "northern-tours",
   "metadata": {},
   "outputs": [],
   "source": [
    "# Cut the per_school_capita into the spending ranges.\n",
    "spending_bins = [0, 585, 615, 645, 675]\n",
    "pd.cut(per_school_capita, spending_bins)"
   ]
  },
  {
   "cell_type": "code",
   "execution_count": null,
   "id": "bizarre-activity",
   "metadata": {},
   "outputs": [],
   "source": [
    "# Place each value of the per_school_capita Series into one of four bins.\n",
    "# Don't add 0 as the lowest edges for the first bin"
   ]
  },
  {
   "cell_type": "code",
   "execution_count": null,
   "id": "disabled-mining",
   "metadata": {},
   "outputs": [],
   "source": [
    "# Cut the per_school_capita into the spending ranges.\n",
    "spending_bins = [585, 615, 645, 675]\n",
    "pd.cut(per_school_capita, spending_bins)"
   ]
  },
  {
   "cell_type": "code",
   "execution_count": null,
   "id": "senior-coordinator",
   "metadata": {},
   "outputs": [],
   "source": [
    "# Determine how many schools are in each range by grouping \n",
    "# spending bins as the index using the groupby() function."
   ]
  },
  {
   "cell_type": "code",
   "execution_count": null,
   "id": "organic-afternoon",
   "metadata": {},
   "outputs": [],
   "source": [
    "# Cut the per_school_capita into the spending ranges.\n",
    "spending_bins = [0, 585, 615, 645, 675]\n",
    "per_school_capita.groupby(pd.cut(per_school_capita, spending_bins)).count()"
   ]
  },
  {
   "cell_type": "code",
   "execution_count": null,
   "id": "nonprofit-grace",
   "metadata": {},
   "outputs": [],
   "source": [
    "# Adjust ranges to have 3 or 4 schools in each range.\n",
    "# Increase the [585, 615] range to [585, 630]\n",
    "# Change the third rand to [630, 645]\n",
    "# Spending bins will appear as [0, 585, 630, 645, 675]"
   ]
  },
  {
   "cell_type": "code",
   "execution_count": null,
   "id": "catholic-shield",
   "metadata": {},
   "outputs": [],
   "source": [
    "# Cut the per_school_capita into the spending ranges.\n",
    "spending_bins = [0, 585, 630, 645, 675]\n",
    "per_school_capita.groupby(pd.cut(per_school_capita, spending_bins)).count()"
   ]
  },
  {
   "cell_type": "code",
   "execution_count": null,
   "id": "elder-nicholas",
   "metadata": {},
   "outputs": [],
   "source": [
    "# Name each range\n",
    "# Hint: use strings ('' or \"\")"
   ]
  },
  {
   "cell_type": "code",
   "execution_count": null,
   "id": "falling-reasoning",
   "metadata": {},
   "outputs": [],
   "source": [
    "# Establish the spending bins and group names.\n",
    "spending_bins = [0, 585, 630, 645, 675]\n",
    "group_names = [\"<$584\", \"$585-629\", \"$630-644\", \"$645-675\"]"
   ]
  },
  {
   "cell_type": "code",
   "execution_count": null,
   "id": "designing-bulgarian",
   "metadata": {},
   "outputs": [],
   "source": [
    "# It is okay to not print yet"
   ]
  },
  {
   "cell_type": "code",
   "execution_count": null,
   "id": "arctic-destiny",
   "metadata": {},
   "outputs": [],
   "source": [
    "# Categorize the spending bins below"
   ]
  },
  {
   "cell_type": "code",
   "execution_count": null,
   "id": "distinct-oracle",
   "metadata": {},
   "outputs": [],
   "source": [
    "# Categorize spending based on bins.\n",
    "per_school_summary_df[\"Spending Ranges (Per Student)\"] = pd.cut(per_school_capita, spending_bins, labels=group_names)\n",
    "\n",
    "per_school_summary_df"
   ]
  },
  {
   "cell_type": "code",
   "execution_count": null,
   "id": "geological-feedback",
   "metadata": {},
   "outputs": [],
   "source": [
    "# Create new Series with the following data:\n",
    "#     - Average Math Score\n",
    "#     - Average Reading Score\n",
    "#     - Average % Passing Math\n",
    "#     - Average % Passing Reading\n",
    "#     - Average % Overall Passing\n",
    "\n",
    "# NOTE: create a Series that has a column as the index by using\n",
    "# groupby() function and add the column inside the parentheses"
   ]
  },
  {
   "cell_type": "code",
   "execution_count": null,
   "id": "conceptual-thomson",
   "metadata": {},
   "outputs": [],
   "source": [
    "# Calculate averages for the desired columns.\n",
    "spending_math_scores = per_school_summary_df.groupby([\"Spending Ranges (Per Student)\"]).mean()[\"Average Math Score\"]\n",
    "\n",
    "spending_reading_scores = per_school_summary_df.groupby([\"Spending Ranges (Per Student)\"]).mean()[\"Average Reading Score\"]\n",
    "\n",
    "spending_passing_math = per_school_summary_df.groupby([\"Spending Ranges (Per Student)\"]).mean()[\"% Passing Math\"]\n",
    "\n",
    "spending_passing_reading = per_school_summary_df.groupby([\"Spending Ranges (Per Student)\"]).mean()[\"% Passing Reading\"]\n",
    "\n",
    "overall_passing_spending = per_school_summary_df.groupby([\"Spending Ranges (Per Student)\"]).mean()[\"% Overall Passing\"]"
   ]
  },
  {
   "cell_type": "code",
   "execution_count": null,
   "id": "super-boring",
   "metadata": {},
   "outputs": [],
   "source": [
    "# Create a spending summary DataFrame"
   ]
  },
  {
   "cell_type": "code",
   "execution_count": null,
   "id": "tough-personal",
   "metadata": {},
   "outputs": [],
   "source": [
    "# Assemble into DataFrame.\n",
    "spending_summary_df = pd.DataFrame({\n",
    "            \"Average Math Score\": spending_math_scores,\n",
    "            \"Average Reading Score\": spending_reading_scores,\n",
    "            \"% Passing Math\": spending_passing_math,\n",
    "            \"% Passing Reading\": spending_passing_reading,\n",
    "            \"% Overall Passing\": overall_passing_spending})\n",
    "\n",
    "spending_summary_df"
   ]
  },
  {
   "cell_type": "code",
   "execution_count": null,
   "id": "three-origin",
   "metadata": {},
   "outputs": [],
   "source": [
    "# Formatting\n",
    "spending_summary_df[\"Average Math Score\"] = spending_summary_df[\"Average Math Score\"].map(\"{:.1f}\".format)\n",
    "\n",
    "spending_summary_df[\"Average Reading Score\"] = spending_summary_df[\"Average Reading Score\"].map(\"{:.1f}\".format)\n",
    "\n",
    "spending_summary_df[\"% Passing Math\"] = spending_summary_df[\"% Passing Math\"].map(\"{:.0f}\".format)\n",
    "\n",
    "spending_summary_df[\"% Passing Reading\"] = spending_summary_df[\"% Passing Reading\"].map(\"{:.0f}\".format)\n",
    "\n",
    "spending_summary_df[\"% Overall Passing\"] = spending_summary_df[\"% Overall Passing\"].map(\"{:.0f}\".format)\n",
    "\n",
    "spending_summary_df"
   ]
  },
  {
   "cell_type": "code",
   "execution_count": null,
   "id": "fourth-implement",
   "metadata": {},
   "outputs": [],
   "source": [
    "# Group averages and percentages by school size"
   ]
  },
  {
   "cell_type": "code",
   "execution_count": null,
   "id": "interpreted-commissioner",
   "metadata": {},
   "outputs": [],
   "source": [
    "# Highest student population is 4976\n",
    "# Upper edge of bin will be 5000.\n",
    "# We have 3 bins, with sizes \"small\", \"medium\", \"large\"\n",
    "\n",
    "#     - \"Small\" schools have fewer than 1000 students\n",
    "#     - \"Medium\" schools have 1000-1999 students\n",
    "#     - \"Large\" schools have 2000-5000 students"
   ]
  },
  {
   "cell_type": "code",
   "execution_count": null,
   "id": "falling-government",
   "metadata": {},
   "outputs": [],
   "source": [
    "# Establish the bins.\n",
    "size_bins = [0, 1000, 2000, 5000]\n",
    "group_names = [\"Small (<1000)\", \"Medium (1000-2000)\", \"Large(2000-5000)\"]"
   ]
  },
  {
   "cell_type": "code",
   "execution_count": null,
   "id": "hollywood-instrumentation",
   "metadata": {},
   "outputs": [],
   "source": [
    "# Cut the per_school_summary_df \n",
    "# Use the cut() function to get the three sizing bins"
   ]
  },
  {
   "cell_type": "code",
   "execution_count": null,
   "id": "promising-sitting",
   "metadata": {},
   "outputs": [],
   "source": [
    "# Categorize spending based on the bins.\n",
    "per_school_summary_df[\"School Size\"] = pd.cut(per_school_summary_df[\"Total Students\"], size_bins, labels=group_names)\n",
    "\n",
    "per_school_summary_df.head()"
   ]
  },
  {
   "cell_type": "code",
   "execution_count": null,
   "id": "featured-german",
   "metadata": {},
   "outputs": [],
   "source": [
    "# \"School size\" bin was added as a new column\n",
    "# This column appeared as the last column shown above"
   ]
  },
  {
   "cell_type": "code",
   "execution_count": null,
   "id": "liquid-chester",
   "metadata": {},
   "outputs": [],
   "source": [
    "# Create a DataFrame containing:\n",
    "#   - average math and reading scores\n",
    "#   - percentage of students who passed math and reading\n",
    "#   - overall percentage of students who passed for each school-size bin"
   ]
  },
  {
   "cell_type": "code",
   "execution_count": null,
   "id": "thrown-respect",
   "metadata": {},
   "outputs": [],
   "source": [
    "# Create new Series\n",
    "#     - Average Math Score\n",
    "#     - Average Reading Score\n",
    "#     - Average % Passing Math\n",
    "#     - Average % Passing Reading\n",
    "#     - Average % Overall Passing"
   ]
  },
  {
   "cell_type": "code",
   "execution_count": null,
   "id": "sought-judgment",
   "metadata": {},
   "outputs": [],
   "source": [
    "# Calculate averages for the desired columns.\n",
    "size_math_scores = per_school_summary_df.groupby([\"School Size\"]).mean()[\"Average Math Score\"]\n",
    "\n",
    "size_reading_scores = per_school_summary_df.groupby([\"School Size\"]).mean()[\"Average Reading Score\"]\n",
    "\n",
    "size_passing_math = per_school_summary_df.groupby([\"School Size\"]).mean() [\"% Passing Math\"]\n",
    "\n",
    "size_passing_reading = per_school_summary_df.groupby([\"School Size\"]).mean()[\"% Passing Reading\"]\n",
    "\n",
    "size_overall_passing = per_school_summary_df.groupby([\"School Size\"]).mean()[\"% Overall Passing\"]"
   ]
  },
  {
   "cell_type": "code",
   "execution_count": null,
   "id": "signed-artist",
   "metadata": {},
   "outputs": [],
   "source": [
    "# Add these averages to a new DataFrame"
   ]
  },
  {
   "cell_type": "code",
   "execution_count": null,
   "id": "guided-opinion",
   "metadata": {},
   "outputs": [],
   "source": [
    "# Create a DataFrame for the Scores by School Size"
   ]
  },
  {
   "cell_type": "code",
   "execution_count": null,
   "id": "northern-vermont",
   "metadata": {},
   "outputs": [],
   "source": [
    "# Assemble into DataFrame.\n",
    "size_summary_df = pd.DataFrame({\n",
    "        \"Average Math Score\": size_math_scores,\n",
    "        \"Average Reading Score\": size_reading_scores,\n",
    "        \"% Passing Math\": size_passing_math,\n",
    "        \"% Passing Reading\": size_passing_reading,\n",
    "        \"% Overall Passing\": size_overall_passing})\n",
    "\n",
    "size_summary_df"
   ]
  },
  {
   "cell_type": "code",
   "execution_count": null,
   "id": "significant-blackjack",
   "metadata": {},
   "outputs": [],
   "source": [
    "# Format the data to ensure the DataFrame compliments \n",
    "# grade-reporting standards"
   ]
  },
  {
   "cell_type": "code",
   "execution_count": null,
   "id": "communist-model",
   "metadata": {},
   "outputs": [],
   "source": [
    "# Formatting\n",
    "size_summary_df[\"Average Math Score\"] = size_summary_df[\"Average Math Score\"].map(\"{:.1f}\".format)\n",
    "\n",
    "size_summary_df[\"Average Reading Score\"] = size_summary_df[\"Average Reading Score\"].map(\"{:.1f}\".format)\n",
    "\n",
    "size_summary_df[\"% Passing Math\"] = size_summary_df[\"% Passing Math\"].map(\"{:.0f}\".format)\n",
    "\n",
    "size_summary_df[\"% Passing Reading\"] = size_summary_df[\"% Passing Reading\"].map(\"{:.0f}\".format)\n",
    "\n",
    "size_summary_df[\"% Overall Passing\"] = size_summary_df[\"% Overall Passing\"].map(\"{:.0f}\".format)\n",
    "\n",
    "size_summary_df"
   ]
  },
  {
   "cell_type": "code",
   "execution_count": null,
   "id": "eleven-attitude",
   "metadata": {},
   "outputs": [],
   "source": [
    "# Group by School Type\n",
    "# District & Charter\n",
    "# Use groupby() function to group data on the school type"
   ]
  },
  {
   "cell_type": "code",
   "execution_count": null,
   "id": "sweet-saturn",
   "metadata": {},
   "outputs": [],
   "source": [
    "# Calculate averages for the desired columns.\n",
    "type_math_scores = per_school_summary_df.groupby([\"School Type\"]).mean()[\"Average Math Score\"]\n",
    "\n",
    "type_reading_scores = per_school_summary_df.groupby([\"School Type\"]).mean()[\"Average Reading Score\"]\n",
    "\n",
    "type_passing_math = per_school_summary_df.groupby([\"School Type\"]).mean()[\"% Passing Math\"]\n",
    "\n",
    "type_passing_reading = per_school_summary_df.groupby([\"School Type\"]).mean()[\"% Passing Reading\"]\n",
    "\n",
    "type_overall_passing = per_school_summary_df.groupby([\"School Type\"]).mean()[\"% Overall Passing\"]"
   ]
  },
  {
   "cell_type": "code",
   "execution_count": null,
   "id": "duplicate-heath",
   "metadata": {},
   "outputs": [],
   "source": [
    "# Add all averages to generate the final DataFrame"
   ]
  },
  {
   "cell_type": "code",
   "execution_count": null,
   "id": "conscious-sauce",
   "metadata": {},
   "outputs": [],
   "source": [
    "# Assemble into DataFrame.\n",
    "type_summary_df = pd.DataFrame({\n",
    "            \"Average Math Score\": type_math_scores,\n",
    "            \"Average Reading Score\": type_reading_scores,\n",
    "            \"% Passing Math\": type_passing_math,\n",
    "            \"% Passing Reading\": type_passing_reading,\n",
    "            \"% Overall Passing\": type_overall_passing})\n",
    "\n",
    "type_summary_df"
   ]
  },
  {
   "cell_type": "code",
   "execution_count": null,
   "id": "serious-giant",
   "metadata": {},
   "outputs": [],
   "source": [
    "# Formatting\n",
    "type_summary_df[\"Average Math Score\"] = type_summary_df[\"Average Math Score\"].map(\"{:.1f}\".format)\n",
    "\n",
    "type_summary_df[\"Average Reading Score\"] = type_summary_df[\"Average Reading Score\"].map(\"{:.1f}\".format)\n",
    "\n",
    "type_summary_df[\"% Passing Math\"] = type_summary_df[\"% Passing Math\"].map(\"{:.0f}\".format)\n",
    "\n",
    "type_summary_df[\"% Passing Reading\"] = type_summary_df[\"% Passing Reading\"].map(\"{:.0f}\".format)\n",
    "\n",
    "type_summary_df[\"% Overall Passing\"] = type_summary_df[\"% Overall Passing\"].map(\"{:.0f}\".format)\n",
    "\n",
    "type_summary_df"
   ]
  },
  {
   "cell_type": "markdown",
   "id": "golden-console",
   "metadata": {},
   "source": []
  },
  {
   "cell_type": "code",
   "execution_count": null,
   "id": "different-placement",
   "metadata": {},
   "outputs": [],
   "source": []
  }
 ],
 "metadata": {
  "kernelspec": {
   "display_name": "PythonData",
   "language": "python",
   "name": "pythondata"
  },
  "language_info": {
   "codemirror_mode": {
    "name": "ipython",
    "version": 3
   },
   "file_extension": ".py",
   "mimetype": "text/x-python",
   "name": "python",
   "nbconvert_exporter": "python",
   "pygments_lexer": "ipython3",
   "version": "3.8.5"
  }
 },
 "nbformat": 4,
 "nbformat_minor": 5
}
